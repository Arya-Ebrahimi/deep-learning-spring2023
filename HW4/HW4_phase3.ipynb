{
  "nbformat": 4,
  "nbformat_minor": 0,
  "metadata": {
    "colab": {
      "provenance": [],
      "gpuType": "T4"
    },
    "kernelspec": {
      "name": "python3",
      "display_name": "Python 3"
    },
    "language_info": {
      "name": "python"
    },
    "accelerator": "GPU"
  },
  "cells": [
    {
      "cell_type": "code",
      "source": [
        "import matplotlib.pyplot as plt\n",
        "import tensorflow as tf\n",
        "import tensorflow.keras.layers as layers\n",
        "from tensorflow.keras.models import Model\n",
        "import gc\n",
        "import numpy as np\n",
        "from sklearn.datasets import load_files"
      ],
      "metadata": {
        "id": "klx7ImhQMMDr"
      },
      "execution_count": 21,
      "outputs": []
    },
    {
      "cell_type": "code",
      "source": [
        "!wget --load-cookies /tmp/cookies.txt \"https://docs.google.com/uc?export=download&confirm=$(wget --quiet --save-cookies /tmp/cookies.txt --keep-session-cookies --no-check-certificate 'https://docs.google.com/uc?export=download&id=1-5Y_bbsUogkAlEz3f-4CflbT40jg-UFJ' -O- | sed -rn 's/.*confirm=([0-9A-Za-z_]+).*/\\1\\n/p')&id=1-5Y_bbsUogkAlEz3f-4CflbT40jg-UFJ\" -O 10_painting.zip && rm -rf /tmp/cookies.txt"
      ],
      "metadata": {
        "colab": {
          "base_uri": "https://localhost:8080/"
        },
        "id": "bR1JR_cjCuWf",
        "outputId": "448a3d84-d72d-4e0e-c811-87c8117abb6d"
      },
      "execution_count": 22,
      "outputs": [
        {
          "output_type": "stream",
          "name": "stdout",
          "text": [
            "--2023-06-27 13:36:41--  https://docs.google.com/uc?export=download&confirm=t&id=1-5Y_bbsUogkAlEz3f-4CflbT40jg-UFJ\n",
            "Resolving docs.google.com (docs.google.com)... 108.177.112.139, 108.177.112.138, 108.177.112.113, ...\n",
            "Connecting to docs.google.com (docs.google.com)|108.177.112.139|:443... connected.\n",
            "HTTP request sent, awaiting response... 303 See Other\n",
            "Location: https://doc-00-3c-docs.googleusercontent.com/docs/securesc/ha0ro937gcuc7l7deffksulhg5h7mbp1/183kk3ga3m81ditdgpmoba6284mf372p/1687872975000/14533323077134147075/*/1-5Y_bbsUogkAlEz3f-4CflbT40jg-UFJ?e=download&uuid=b01fd61b-e2d3-4d52-9848-3fea677dadca [following]\n",
            "Warning: wildcards not supported in HTTP.\n",
            "--2023-06-27 13:36:41--  https://doc-00-3c-docs.googleusercontent.com/docs/securesc/ha0ro937gcuc7l7deffksulhg5h7mbp1/183kk3ga3m81ditdgpmoba6284mf372p/1687872975000/14533323077134147075/*/1-5Y_bbsUogkAlEz3f-4CflbT40jg-UFJ?e=download&uuid=b01fd61b-e2d3-4d52-9848-3fea677dadca\n",
            "Resolving doc-00-3c-docs.googleusercontent.com (doc-00-3c-docs.googleusercontent.com)... 142.250.1.132, 2607:f8b0:4001:c24::84\n",
            "Connecting to doc-00-3c-docs.googleusercontent.com (doc-00-3c-docs.googleusercontent.com)|142.250.1.132|:443... connected.\n",
            "HTTP request sent, awaiting response... 200 OK\n",
            "Length: 114027874 (109M) [application/zip]\n",
            "Saving to: ‘10_painting.zip’\n",
            "\n",
            "10_painting.zip     100%[===================>] 108.75M   141MB/s    in 0.8s    \n",
            "\n",
            "2023-06-27 13:36:42 (141 MB/s) - ‘10_painting.zip’ saved [114027874/114027874]\n",
            "\n"
          ]
        }
      ]
    },
    {
      "cell_type": "code",
      "source": [
        "!unzip -q 10_painting.zip"
      ],
      "metadata": {
        "id": "K1hqVMJkC4_j",
        "colab": {
          "base_uri": "https://localhost:8080/"
        },
        "outputId": "f2fde3a8-f27d-4d8d-8a5e-bc40ad11cf5f"
      },
      "execution_count": 23,
      "outputs": [
        {
          "output_type": "stream",
          "name": "stdout",
          "text": [
            "replace painting/airplane/painting_002_000012.jpg? [y]es, [n]o, [A]ll, [N]one, [r]ename: "
          ]
        }
      ]
    },
    {
      "cell_type": "code",
      "source": [
        "!wget --load-cookies /tmp/cookies.txt \"https://docs.google.com/uc?export=download&confirm=$(wget --quiet --save-cookies /tmp/cookies.txt --keep-session-cookies --no-check-certificate 'https://docs.google.com/uc?export=download&id=1ICRO0C8XY9LYR5UPxbHowV1Yxfybkh0D' -O- | sed -rn 's/.*confirm=([0-9A-Za-z_]+).*/\\1\\n/p')&id=1ICRO0C8XY9LYR5UPxbHowV1Yxfybkh0D\" -O 10_real.zip && rm -rf /tmp/cookies.txt"
      ],
      "metadata": {
        "colab": {
          "base_uri": "https://localhost:8080/"
        },
        "id": "_gy3cbOeC-Kt",
        "outputId": "a4530515-aaf3-44d9-a615-b8f163d3a2de"
      },
      "execution_count": 24,
      "outputs": [
        {
          "output_type": "stream",
          "name": "stdout",
          "text": [
            "--2023-06-27 13:44:26--  https://docs.google.com/uc?export=download&confirm=t&id=1ICRO0C8XY9LYR5UPxbHowV1Yxfybkh0D\n",
            "Resolving docs.google.com (docs.google.com)... 108.177.112.101, 108.177.112.138, 108.177.112.139, ...\n",
            "Connecting to docs.google.com (docs.google.com)|108.177.112.101|:443... connected.\n",
            "HTTP request sent, awaiting response... 303 See Other\n",
            "Location: https://doc-0c-3c-docs.googleusercontent.com/docs/securesc/ha0ro937gcuc7l7deffksulhg5h7mbp1/ckek6d10n7g5ga16r81a3vjlgojk2aa2/1687873425000/14533323077134147075/*/1ICRO0C8XY9LYR5UPxbHowV1Yxfybkh0D?e=download&uuid=c2272387-8e52-4377-85c3-b33c51decf77 [following]\n",
            "Warning: wildcards not supported in HTTP.\n",
            "--2023-06-27 13:44:26--  https://doc-0c-3c-docs.googleusercontent.com/docs/securesc/ha0ro937gcuc7l7deffksulhg5h7mbp1/ckek6d10n7g5ga16r81a3vjlgojk2aa2/1687873425000/14533323077134147075/*/1ICRO0C8XY9LYR5UPxbHowV1Yxfybkh0D?e=download&uuid=c2272387-8e52-4377-85c3-b33c51decf77\n",
            "Resolving doc-0c-3c-docs.googleusercontent.com (doc-0c-3c-docs.googleusercontent.com)... 142.250.1.132, 2607:f8b0:4001:c24::84\n",
            "Connecting to doc-0c-3c-docs.googleusercontent.com (doc-0c-3c-docs.googleusercontent.com)|142.250.1.132|:443... connected.\n",
            "HTTP request sent, awaiting response... 200 OK\n",
            "Length: 142433509 (136M) [application/zip]\n",
            "Saving to: ‘10_real.zip’\n",
            "\n",
            "10_real.zip         100%[===================>] 135.83M  67.4MB/s    in 2.0s    \n",
            "\n",
            "2023-06-27 13:44:28 (67.4 MB/s) - ‘10_real.zip’ saved [142433509/142433509]\n",
            "\n"
          ]
        }
      ]
    },
    {
      "cell_type": "code",
      "source": [
        "!unzip -q 10_real.zip"
      ],
      "metadata": {
        "id": "RpuaC9a6FBsr",
        "colab": {
          "base_uri": "https://localhost:8080/"
        },
        "outputId": "04e09b42-ac13-4506-d35e-690b1db31b7f"
      },
      "execution_count": 25,
      "outputs": [
        {
          "output_type": "stream",
          "name": "stdout",
          "text": [
            "replace real/airplane/real_002_000122.jpg? [y]es, [n]o, [A]ll, [N]one, [r]ename: "
          ]
        }
      ]
    },
    {
      "cell_type": "code",
      "source": [
        "real_images = tf.keras.utils.image_dataset_from_directory(\n",
        "    directory='real/',\n",
        "    labels='inferred',\n",
        "    label_mode='categorical',\n",
        "    batch_size=32,\n",
        "    image_size=((32, 32)),\n",
        ")\n",
        "\n",
        "painting_images = tf.keras.utils.image_dataset_from_directory(\n",
        "    directory='painting/',\n",
        "    labels='inferred',\n",
        "    label_mode='categorical',\n",
        "    batch_size=32,\n",
        "    image_size=((32, 32)),\n",
        ")"
      ],
      "metadata": {
        "colab": {
          "base_uri": "https://localhost:8080/"
        },
        "id": "8L04-p3EFDTw",
        "outputId": "2ce60618-32cf-4cfc-cc36-b5f4587d8af9"
      },
      "execution_count": 26,
      "outputs": [
        {
          "output_type": "stream",
          "name": "stdout",
          "text": [
            "Found 4653 files belonging to 10 classes.\n",
            "Found 2287 files belonging to 10 classes.\n"
          ]
        }
      ]
    },
    {
      "cell_type": "code",
      "source": [
        "x_real, y_real = np.concatenate(list(real_images.map(lambda x, y: x))), np.concatenate(list(real_images.map(lambda x, y: y)))\n",
        "x_paint, y_paint = np.concatenate(list(painting_images.map(lambda x, y: x))), np.concatenate(list(painting_images.map(lambda x, y: y)))"
      ],
      "metadata": {
        "id": "vKH93A7FVW1o"
      },
      "execution_count": null,
      "outputs": []
    },
    {
      "cell_type": "code",
      "source": [
        "x_real = x_real / 255.0\n",
        "x_paint = x_paint / 255.0"
      ],
      "metadata": {
        "id": "0MelA_maac6s"
      },
      "execution_count": 28,
      "outputs": []
    },
    {
      "cell_type": "code",
      "source": [
        "data_augmentation = tf.keras.Sequential([\n",
        "    layers.RandomFlip(\"horizontal_and_vertical\"),\n",
        "    layers.RandomRotation(0.2),\n",
        "])"
      ],
      "metadata": {
        "id": "i8CFxEvBn3i5"
      },
      "execution_count": 29,
      "outputs": []
    },
    {
      "cell_type": "code",
      "source": [
        "x_real_ = x_real.copy()\n",
        "y_real_ = y_real.copy()\n",
        "\n",
        "for i in range(17):\n",
        "    aug_ds = data_augmentation(x_real).numpy()\n",
        "    x_real_ = np.concatenate([x_real_, aug_ds])\n",
        "    y_real_ = np.concatenate([y_real_, y_real])\n",
        "\n",
        "x_paint_ = x_paint.copy()\n",
        "y_paint_ = y_paint.copy()\n",
        "\n",
        "for i in range(19):\n",
        "    aug_ds = data_augmentation(x_paint).numpy()\n",
        "    x_paint_ = np.concatenate([x_paint_, aug_ds])\n",
        "    y_paint_ = np.concatenate([y_paint_, y_paint])"
      ],
      "metadata": {
        "id": "jssolc2Boknf"
      },
      "execution_count": 30,
      "outputs": []
    },
    {
      "cell_type": "code",
      "source": [
        "input_2 = layers.Input(shape=(32, 32, 3))\n",
        "\n",
        "y = layers.Conv2D(32, (3, 3), activation=\"relu\", padding=\"same\")(input_2)\n",
        "y = layers.MaxPooling2D((2, 2), padding=\"same\")(y)\n",
        "y = layers.Conv2D(32, (3, 3), activation=\"relu\", padding=\"same\")(y)\n",
        "y = layers.MaxPooling2D((2, 2), padding=\"same\")(y)\n",
        "y = layers.Conv2D(64, (3, 3), activation=\"relu\", padding=\"same\")(y)\n",
        "y = layers.MaxPooling2D((2, 2), padding=\"same\")(y)\n",
        "y = layers.Conv2D(64, (3, 3), activation=\"relu\", padding=\"same\")(y)\n",
        "y = layers.MaxPooling2D((2, 2), padding=\"same\")(y)\n",
        "\n",
        "features_supervised = layers.Flatten()(y)\n",
        "\n",
        "classification_head = layers.Dense(256, activation='relu')(features_supervised)\n",
        "classification_head = layers.Dropout(0.4)(classification_head)\n",
        "classification_head = layers.Dense(128, activation='relu')(classification_head)\n",
        "classification_head = layers.Dropout(0.2)(classification_head)\n",
        "\n",
        "classification_head = layers.Dense(10, activation='softmax', name='classification_head')(classification_head)\n",
        "\n",
        "classifier = Model(input_2, classification_head, name='classifier')\n",
        "features_model_supervised = Model(input_2, features_supervised, name='features_supervised')"
      ],
      "metadata": {
        "id": "N_A_UU7dAxmr"
      },
      "execution_count": 31,
      "outputs": []
    },
    {
      "cell_type": "code",
      "execution_count": 32,
      "metadata": {
        "id": "-4NwIKuyL6BB"
      },
      "outputs": [],
      "source": [
        "input_1 = layers.Input(shape=(32, 32, 3))\n",
        "\n",
        "# Encoder\n",
        "x = layers.Conv2D(32, (3, 3), activation=\"relu\", padding=\"same\")(input_1)\n",
        "x = layers.MaxPooling2D((2, 2), padding=\"same\")(x)\n",
        "x = layers.Conv2D(32, (3, 3), activation=\"relu\", padding=\"same\")(x)\n",
        "x = layers.MaxPooling2D((2, 2), padding=\"same\")(x)\n",
        "x = layers.Conv2D(64, (3, 3), activation=\"relu\", padding=\"same\")(x)\n",
        "\n",
        "latent = layers.Flatten()(x)\n",
        "\n",
        "o = GradReverse(0.)(latent)\n",
        "o = layers.Dropout(0.1)(o)\n",
        "o = layers.Dense(128, activation='relu')(o)\n",
        "o = layers.Dense(1, activation='sigmoid', name='discrimination_head')(o)\n",
        "\n",
        "# Decoder\n",
        "d = layers.Reshape((4, 4, 64*4))(latent)\n",
        "d = layers.Conv2DTranspose(64, (3, 3), strides=2, activation=\"relu\", padding=\"same\")(d)\n",
        "d = layers.BatchNormalization()(d)\n",
        "d = layers.Conv2DTranspose(32, (3, 3), strides=2, activation=\"relu\", padding=\"same\")(d)\n",
        "d = layers.BatchNormalization()(d)\n",
        "d = layers.Conv2DTranspose(32, (3, 3), strides=2, activation=\"relu\", padding=\"same\")(d)\n",
        "\n",
        "decoded = layers.Conv2D(3, (3, 3), activation='sigmoid', padding='same', name='reconstruction_head')(d)\n",
        "\n",
        "autoencoder = Model(input_1, decoded, name='autoencoder')\n",
        "encoder = Model(input_1, latent)"
      ]
    },
    {
      "cell_type": "code",
      "source": [
        "classifier.compile(\n",
        "    optimizer = tf.keras.optimizers.Adam(learning_rate=1e-4),\n",
        "    loss = 'categorical_crossentropy',\n",
        "    metrics = ['accuracy'],\n",
        ")"
      ],
      "metadata": {
        "id": "9cxHAlGhDxNp"
      },
      "execution_count": 33,
      "outputs": []
    },
    {
      "cell_type": "code",
      "source": [
        "gc.collect()"
      ],
      "metadata": {
        "colab": {
          "base_uri": "https://localhost:8080/"
        },
        "id": "2Dn6pFvzE4qJ",
        "outputId": "aa83a459-7a4b-4946-f335-929e3ec43ddb"
      },
      "execution_count": 34,
      "outputs": [
        {
          "output_type": "execute_result",
          "data": {
            "text/plain": [
              "1660"
            ]
          },
          "metadata": {},
          "execution_count": 34
        }
      ]
    },
    {
      "cell_type": "code",
      "source": [
        "classifier.fit(x_real_, y_real_, epochs=30, batch_size=128, shuffle=True, validation_split=0.1)"
      ],
      "metadata": {
        "colab": {
          "base_uri": "https://localhost:8080/"
        },
        "id": "OhRnHbEoD6xq",
        "outputId": "d90e0d6d-d1cc-4cf7-a166-1f0bf342004a"
      },
      "execution_count": 35,
      "outputs": [
        {
          "output_type": "stream",
          "name": "stdout",
          "text": [
            "Epoch 1/30\n",
            "589/589 [==============================] - 7s 7ms/step - loss: 2.2431 - accuracy: 0.1291 - val_loss: 2.2285 - val_accuracy: 0.1378\n",
            "Epoch 2/30\n",
            "589/589 [==============================] - 4s 7ms/step - loss: 2.2312 - accuracy: 0.1360 - val_loss: 2.2247 - val_accuracy: 0.1404\n",
            "Epoch 3/30\n",
            "589/589 [==============================] - 4s 6ms/step - loss: 2.2268 - accuracy: 0.1383 - val_loss: 2.2208 - val_accuracy: 0.1486\n",
            "Epoch 4/30\n",
            "589/589 [==============================] - 4s 6ms/step - loss: 2.2225 - accuracy: 0.1419 - val_loss: 2.2185 - val_accuracy: 0.1526\n",
            "Epoch 5/30\n",
            "589/589 [==============================] - 4s 7ms/step - loss: 2.2186 - accuracy: 0.1474 - val_loss: 2.2126 - val_accuracy: 0.1463\n",
            "Epoch 6/30\n",
            "589/589 [==============================] - 4s 6ms/step - loss: 2.2144 - accuracy: 0.1508 - val_loss: 2.2094 - val_accuracy: 0.1535\n",
            "Epoch 7/30\n",
            "589/589 [==============================] - 4s 6ms/step - loss: 2.2098 - accuracy: 0.1551 - val_loss: 2.2049 - val_accuracy: 0.1591\n",
            "Epoch 8/30\n",
            "589/589 [==============================] - 4s 7ms/step - loss: 2.2048 - accuracy: 0.1603 - val_loss: 2.2007 - val_accuracy: 0.1627\n",
            "Epoch 9/30\n",
            "589/589 [==============================] - 4s 6ms/step - loss: 2.1987 - accuracy: 0.1635 - val_loss: 2.1970 - val_accuracy: 0.1649\n",
            "Epoch 10/30\n",
            "589/589 [==============================] - 4s 6ms/step - loss: 2.1930 - accuracy: 0.1680 - val_loss: 2.1906 - val_accuracy: 0.1705\n",
            "Epoch 11/30\n",
            "589/589 [==============================] - 4s 7ms/step - loss: 2.1850 - accuracy: 0.1752 - val_loss: 2.1811 - val_accuracy: 0.1759\n",
            "Epoch 12/30\n",
            "589/589 [==============================] - 4s 7ms/step - loss: 2.1788 - accuracy: 0.1787 - val_loss: 2.1735 - val_accuracy: 0.1808\n",
            "Epoch 13/30\n",
            "589/589 [==============================] - 4s 6ms/step - loss: 2.1695 - accuracy: 0.1854 - val_loss: 2.1662 - val_accuracy: 0.1873\n",
            "Epoch 14/30\n",
            "589/589 [==============================] - 4s 6ms/step - loss: 2.1600 - accuracy: 0.1911 - val_loss: 2.1640 - val_accuracy: 0.1861\n",
            "Epoch 15/30\n",
            "589/589 [==============================] - 4s 7ms/step - loss: 2.1503 - accuracy: 0.1977 - val_loss: 2.1489 - val_accuracy: 0.1983\n",
            "Epoch 16/30\n",
            "589/589 [==============================] - 4s 6ms/step - loss: 2.1398 - accuracy: 0.2034 - val_loss: 2.1437 - val_accuracy: 0.1968\n",
            "Epoch 17/30\n",
            "589/589 [==============================] - 4s 6ms/step - loss: 2.1286 - accuracy: 0.2059 - val_loss: 2.1327 - val_accuracy: 0.2080\n",
            "Epoch 18/30\n",
            "589/589 [==============================] - 4s 7ms/step - loss: 2.1157 - accuracy: 0.2140 - val_loss: 2.1188 - val_accuracy: 0.2131\n",
            "Epoch 19/30\n",
            "589/589 [==============================] - 4s 6ms/step - loss: 2.1035 - accuracy: 0.2196 - val_loss: 2.1133 - val_accuracy: 0.2211\n",
            "Epoch 20/30\n",
            "589/589 [==============================] - 4s 6ms/step - loss: 2.0894 - accuracy: 0.2256 - val_loss: 2.0994 - val_accuracy: 0.2205\n",
            "Epoch 21/30\n",
            "589/589 [==============================] - 4s 7ms/step - loss: 2.0781 - accuracy: 0.2319 - val_loss: 2.0962 - val_accuracy: 0.2245\n",
            "Epoch 22/30\n",
            "589/589 [==============================] - 4s 6ms/step - loss: 2.0638 - accuracy: 0.2397 - val_loss: 2.0823 - val_accuracy: 0.2292\n",
            "Epoch 23/30\n",
            "589/589 [==============================] - 4s 6ms/step - loss: 2.0486 - accuracy: 0.2481 - val_loss: 2.0767 - val_accuracy: 0.2350\n",
            "Epoch 24/30\n",
            "589/589 [==============================] - 4s 7ms/step - loss: 2.0354 - accuracy: 0.2523 - val_loss: 2.0608 - val_accuracy: 0.2421\n",
            "Epoch 25/30\n",
            "589/589 [==============================] - 4s 6ms/step - loss: 2.0218 - accuracy: 0.2609 - val_loss: 2.0565 - val_accuracy: 0.2508\n",
            "Epoch 26/30\n",
            "589/589 [==============================] - 4s 6ms/step - loss: 2.0064 - accuracy: 0.2665 - val_loss: 2.0570 - val_accuracy: 0.2434\n",
            "Epoch 27/30\n",
            "589/589 [==============================] - 4s 7ms/step - loss: 1.9928 - accuracy: 0.2750 - val_loss: 2.0315 - val_accuracy: 0.2533\n",
            "Epoch 28/30\n",
            "589/589 [==============================] - 4s 6ms/step - loss: 1.9825 - accuracy: 0.2777 - val_loss: 2.0272 - val_accuracy: 0.2617\n",
            "Epoch 29/30\n",
            "589/589 [==============================] - 4s 6ms/step - loss: 1.9641 - accuracy: 0.2843 - val_loss: 2.0111 - val_accuracy: 0.2667\n",
            "Epoch 30/30\n",
            "589/589 [==============================] - 4s 7ms/step - loss: 1.9528 - accuracy: 0.2920 - val_loss: 2.0071 - val_accuracy: 0.2640\n"
          ]
        },
        {
          "output_type": "execute_result",
          "data": {
            "text/plain": [
              "<keras.callbacks.History at 0x7fca110146a0>"
            ]
          },
          "metadata": {},
          "execution_count": 35
        }
      ]
    },
    {
      "cell_type": "code",
      "source": [
        "autoencoder.compile(\n",
        "    optimizer = 'adam',\n",
        "    loss = 'binary_crossentropy',\n",
        ")"
      ],
      "metadata": {
        "id": "0SLOL_ttFvJI"
      },
      "execution_count": 36,
      "outputs": []
    },
    {
      "cell_type": "code",
      "source": [
        "gc.collect()"
      ],
      "metadata": {
        "colab": {
          "base_uri": "https://localhost:8080/"
        },
        "id": "mDDbbNgsHpF0",
        "outputId": "535df824-2134-4db4-bf49-1873c5bfd0b0"
      },
      "execution_count": 37,
      "outputs": [
        {
          "output_type": "execute_result",
          "data": {
            "text/plain": [
              "1534"
            ]
          },
          "metadata": {},
          "execution_count": 37
        }
      ]
    },
    {
      "cell_type": "code",
      "source": [
        "autoencoder.fit(x_real_, x_real_, epochs=10, batch_size=128, shuffle=True, validation_split=0.1)"
      ],
      "metadata": {
        "colab": {
          "base_uri": "https://localhost:8080/"
        },
        "id": "IAMjwFQIF22v",
        "outputId": "cb6120c1-4dcb-46b7-d733-413ed8b34c8c"
      },
      "execution_count": 38,
      "outputs": [
        {
          "output_type": "stream",
          "name": "stdout",
          "text": [
            "Epoch 1/10\n",
            "589/589 [==============================] - 11s 14ms/step - loss: 0.4549 - val_loss: 0.4387\n",
            "Epoch 2/10\n",
            "589/589 [==============================] - 7s 12ms/step - loss: 0.4296 - val_loss: 0.4294\n",
            "Epoch 3/10\n",
            "589/589 [==============================] - 8s 13ms/step - loss: 0.4248 - val_loss: 0.4251\n",
            "Epoch 4/10\n",
            "589/589 [==============================] - 8s 13ms/step - loss: 0.4220 - val_loss: 0.4293\n",
            "Epoch 5/10\n",
            "589/589 [==============================] - 7s 13ms/step - loss: 0.4200 - val_loss: 0.4203\n",
            "Epoch 6/10\n",
            "589/589 [==============================] - 8s 13ms/step - loss: 0.4183 - val_loss: 0.4198\n",
            "Epoch 7/10\n",
            "589/589 [==============================] - 8s 13ms/step - loss: 0.4172 - val_loss: 0.4194\n",
            "Epoch 8/10\n",
            "589/589 [==============================] - 7s 12ms/step - loss: 0.4162 - val_loss: 0.4229\n",
            "Epoch 9/10\n",
            "589/589 [==============================] - 8s 13ms/step - loss: 0.4153 - val_loss: 0.4190\n",
            "Epoch 10/10\n",
            "589/589 [==============================] - 7s 12ms/step - loss: 0.4149 - val_loss: 0.4166\n"
          ]
        },
        {
          "output_type": "execute_result",
          "data": {
            "text/plain": [
              "<keras.callbacks.History at 0x7fca11236bc0>"
            ]
          },
          "metadata": {},
          "execution_count": 38
        }
      ]
    },
    {
      "cell_type": "code",
      "source": [
        "from tensorflow.keras.layers import Layer\n",
        "from tensorflow.keras import initializers\n",
        "\n",
        "@tf.custom_gradient\n",
        "def grad_reverse(x,l):\n",
        "    y = tf.identity(x)\n",
        "    def custom_grad(dy):\n",
        "        return -dy * l, None\n",
        "    return y, custom_grad\n",
        "\n",
        "class GradReverse(Layer):\n",
        "    #def __init__(self, l, **kwargs):\n",
        "    def __init__(self, l):\n",
        "        super().__init__()\n",
        "        self.l = tf.Variable(l, trainable=False)\n",
        "\n",
        "    def call(self, x):\n",
        "        return grad_reverse(x,self.l)\n",
        "\n",
        "    def get_config(self):\n",
        "        return {'l': self.l.numpy()}"
      ],
      "metadata": {
        "id": "sHTEGDnHP5Mi"
      },
      "execution_count": 39,
      "outputs": []
    },
    {
      "cell_type": "code",
      "source": [
        "input_3 = layers.Input(shape=(32, 32, 3))\n",
        "\n",
        "# features = tf.keras.layers.Concatenate(axis=1)([encoder(input_3), features_model_supervised(input_3)])\n",
        "features = features_model_supervised(input_3)\n",
        "o = GradReverse(0.)(features)\n",
        "o = layers.Dropout(0.3)(o)\n",
        "o = layers.Dense(128, activation='relu')(o)\n",
        "o = layers.Dense(1, activation='sigmoid', name='discrimination_head')(o)\n",
        "\n",
        "model = Model(input_3, o, name='ahh')\n",
        "features = Model(input_3, features)"
      ],
      "metadata": {
        "id": "RdRgdWZLCTBd"
      },
      "execution_count": 67,
      "outputs": []
    },
    {
      "cell_type": "code",
      "source": [
        "model.summary()"
      ],
      "metadata": {
        "colab": {
          "base_uri": "https://localhost:8080/"
        },
        "id": "8lkE858QI0LS",
        "outputId": "c4e1e2dd-e1d1-4c49-9ac6-9b86db7ab7fb"
      },
      "execution_count": 68,
      "outputs": [
        {
          "output_type": "stream",
          "name": "stdout",
          "text": [
            "Model: \"ahh\"\n",
            "_________________________________________________________________\n",
            " Layer (type)                Output Shape              Param #   \n",
            "=================================================================\n",
            " input_16 (InputLayer)       [(None, 32, 32, 3)]       0         \n",
            "                                                                 \n",
            " features_supervised (Functi  (None, 256)              65568     \n",
            " onal)                                                           \n",
            "                                                                 \n",
            " grad_reverse_7 (GradReverse  (None, 256)              1         \n",
            " )                                                               \n",
            "                                                                 \n",
            " dropout_10 (Dropout)        (None, 256)               0         \n",
            "                                                                 \n",
            " dense_10 (Dense)            (None, 128)               32896     \n",
            "                                                                 \n",
            " discrimination_head (Dense)  (None, 1)                129       \n",
            "                                                                 \n",
            "=================================================================\n",
            "Total params: 98,594\n",
            "Trainable params: 98,593\n",
            "Non-trainable params: 1\n",
            "_________________________________________________________________\n"
          ]
        }
      ]
    },
    {
      "cell_type": "code",
      "source": [
        "combined_images = tf.concat([x_real_[:40000], x_paint_[:40000]], axis=0)\n",
        "\n",
        "labels = tf.concat(\n",
        "    [tf.ones((40000, 1)), tf.zeros((40000, 1))], axis=0\n",
        ")"
      ],
      "metadata": {
        "id": "h-jZL0fj_Ppg"
      },
      "execution_count": 69,
      "outputs": []
    },
    {
      "cell_type": "code",
      "source": [
        "model.compile(\n",
        "    optimizer=\"adam\",\n",
        "    loss='binary_crossentropy',\n",
        "    metrics=['accuracy'],\n",
        ")"
      ],
      "metadata": {
        "id": "Ds4e3I8tJKOs"
      },
      "execution_count": 70,
      "outputs": []
    },
    {
      "cell_type": "code",
      "source": [
        "h = model.fit(\n",
        "    x=combined_images,\n",
        "    y=labels,\n",
        "    epochs=25,\n",
        "    batch_size=128,\n",
        "    shuffle=True,\n",
        "    validation_split=0.1\n",
        ")"
      ],
      "metadata": {
        "colab": {
          "base_uri": "https://localhost:8080/"
        },
        "id": "u5TRns7VKgMS",
        "outputId": "217b9fd7-870b-466d-990b-a4f92372e72c"
      },
      "execution_count": 71,
      "outputs": [
        {
          "output_type": "stream",
          "name": "stdout",
          "text": [
            "Epoch 1/25\n",
            "563/563 [==============================] - 7s 7ms/step - loss: 0.6144 - accuracy: 0.6465 - val_loss: 0.6411 - val_accuracy: 0.6628\n",
            "Epoch 2/25\n",
            "563/563 [==============================] - 4s 7ms/step - loss: 0.5920 - accuracy: 0.6713 - val_loss: 0.6610 - val_accuracy: 0.6409\n",
            "Epoch 3/25\n",
            "563/563 [==============================] - 4s 6ms/step - loss: 0.5813 - accuracy: 0.6802 - val_loss: 0.6740 - val_accuracy: 0.6290\n",
            "Epoch 4/25\n",
            "563/563 [==============================] - 3s 6ms/step - loss: 0.5715 - accuracy: 0.6916 - val_loss: 0.5554 - val_accuracy: 0.7464\n",
            "Epoch 5/25\n",
            "563/563 [==============================] - 4s 7ms/step - loss: 0.5667 - accuracy: 0.6942 - val_loss: 0.6335 - val_accuracy: 0.6695\n",
            "Epoch 6/25\n",
            "563/563 [==============================] - 4s 7ms/step - loss: 0.5600 - accuracy: 0.7007 - val_loss: 0.6109 - val_accuracy: 0.6975\n",
            "Epoch 7/25\n",
            "563/563 [==============================] - 3s 6ms/step - loss: 0.5562 - accuracy: 0.7051 - val_loss: 0.5430 - val_accuracy: 0.7586\n",
            "Epoch 8/25\n",
            "563/563 [==============================] - 4s 7ms/step - loss: 0.5514 - accuracy: 0.7076 - val_loss: 0.7059 - val_accuracy: 0.5841\n",
            "Epoch 9/25\n",
            "563/563 [==============================] - 3s 6ms/step - loss: 0.5461 - accuracy: 0.7135 - val_loss: 0.5914 - val_accuracy: 0.7056\n",
            "Epoch 10/25\n",
            "563/563 [==============================] - 3s 6ms/step - loss: 0.5425 - accuracy: 0.7177 - val_loss: 0.5746 - val_accuracy: 0.7106\n",
            "Epoch 11/25\n",
            "563/563 [==============================] - 4s 7ms/step - loss: 0.5394 - accuracy: 0.7181 - val_loss: 0.5402 - val_accuracy: 0.7494\n",
            "Epoch 12/25\n",
            "563/563 [==============================] - 4s 7ms/step - loss: 0.5377 - accuracy: 0.7211 - val_loss: 0.5737 - val_accuracy: 0.7126\n",
            "Epoch 13/25\n",
            "563/563 [==============================] - 3s 6ms/step - loss: 0.5324 - accuracy: 0.7234 - val_loss: 0.5620 - val_accuracy: 0.7189\n",
            "Epoch 14/25\n",
            "563/563 [==============================] - 3s 6ms/step - loss: 0.5325 - accuracy: 0.7236 - val_loss: 0.5872 - val_accuracy: 0.7026\n",
            "Epoch 15/25\n",
            "563/563 [==============================] - 4s 7ms/step - loss: 0.5272 - accuracy: 0.7272 - val_loss: 0.5654 - val_accuracy: 0.7218\n",
            "Epoch 16/25\n",
            "563/563 [==============================] - 3s 6ms/step - loss: 0.5249 - accuracy: 0.7275 - val_loss: 0.5065 - val_accuracy: 0.7849\n",
            "Epoch 17/25\n",
            "563/563 [==============================] - 3s 6ms/step - loss: 0.5231 - accuracy: 0.7289 - val_loss: 0.4938 - val_accuracy: 0.7886\n",
            "Epoch 18/25\n",
            "563/563 [==============================] - 4s 7ms/step - loss: 0.5213 - accuracy: 0.7318 - val_loss: 0.5095 - val_accuracy: 0.7726\n",
            "Epoch 19/25\n",
            "563/563 [==============================] - 4s 6ms/step - loss: 0.5181 - accuracy: 0.7356 - val_loss: 0.6020 - val_accuracy: 0.6902\n",
            "Epoch 20/25\n",
            "563/563 [==============================] - 3s 6ms/step - loss: 0.5173 - accuracy: 0.7337 - val_loss: 0.5180 - val_accuracy: 0.7656\n",
            "Epoch 21/25\n",
            "563/563 [==============================] - 4s 6ms/step - loss: 0.5152 - accuracy: 0.7349 - val_loss: 0.4905 - val_accuracy: 0.7949\n",
            "Epoch 22/25\n",
            "563/563 [==============================] - 4s 7ms/step - loss: 0.5121 - accuracy: 0.7383 - val_loss: 0.5188 - val_accuracy: 0.7654\n",
            "Epoch 23/25\n",
            "563/563 [==============================] - 3s 6ms/step - loss: 0.5093 - accuracy: 0.7394 - val_loss: 0.4794 - val_accuracy: 0.7944\n",
            "Epoch 24/25\n",
            "563/563 [==============================] - 4s 7ms/step - loss: 0.5078 - accuracy: 0.7423 - val_loss: 0.4661 - val_accuracy: 0.8043\n",
            "Epoch 25/25\n",
            "563/563 [==============================] - 4s 8ms/step - loss: 0.5073 - accuracy: 0.7432 - val_loss: 0.5068 - val_accuracy: 0.7790\n"
          ]
        }
      ]
    },
    {
      "cell_type": "code",
      "source": [
        "gc.collect()"
      ],
      "metadata": {
        "colab": {
          "base_uri": "https://localhost:8080/"
        },
        "id": "qfOn4svGUPiv",
        "outputId": "ae3381a9-ca31-421e-d802-ef5b81051f70"
      },
      "execution_count": 72,
      "outputs": [
        {
          "output_type": "execute_result",
          "data": {
            "text/plain": [
              "3191"
            ]
          },
          "metadata": {},
          "execution_count": 72
        }
      ]
    },
    {
      "cell_type": "code",
      "source": [
        "features_train = features.predict(combined_images)"
      ],
      "metadata": {
        "colab": {
          "base_uri": "https://localhost:8080/"
        },
        "id": "Jw7h6i8UYdjy",
        "outputId": "a9dbd5b0-0ae5-45d0-f364-b8778fb4975a"
      },
      "execution_count": 73,
      "outputs": [
        {
          "output_type": "stream",
          "name": "stdout",
          "text": [
            "2500/2500 [==============================] - 4s 2ms/step\n"
          ]
        }
      ]
    },
    {
      "cell_type": "code",
      "source": [
        "def onehot_to_label(x):\n",
        "    labels = []\n",
        "    for i in range(x.shape[0]):\n",
        "        labels.append(np.argmax(x[i]))\n",
        "    return labels"
      ],
      "metadata": {
        "id": "DX_5uBFPjSo8"
      },
      "execution_count": 74,
      "outputs": []
    },
    {
      "cell_type": "code",
      "source": [
        "from sklearn.ensemble import RandomForestClassifier\n",
        "from sklearn.metrics import accuracy_score\n",
        "\n",
        "clf = RandomForestClassifier(max_depth=10, random_state=0)\n",
        "clf.fit(features_train, onehot_to_label(labels))"
      ],
      "metadata": {
        "id": "H5KYzAOVi2_d",
        "colab": {
          "base_uri": "https://localhost:8080/",
          "height": 52
        },
        "outputId": "17a87d76-b9b7-4f12-bc19-f48dd7fd7757"
      },
      "execution_count": 75,
      "outputs": [
        {
          "output_type": "execute_result",
          "data": {
            "text/plain": [
              "RandomForestClassifier(max_depth=10, random_state=0)"
            ],
            "text/html": [
              "<style>#sk-container-id-2 {color: black;background-color: white;}#sk-container-id-2 pre{padding: 0;}#sk-container-id-2 div.sk-toggleable {background-color: white;}#sk-container-id-2 label.sk-toggleable__label {cursor: pointer;display: block;width: 100%;margin-bottom: 0;padding: 0.3em;box-sizing: border-box;text-align: center;}#sk-container-id-2 label.sk-toggleable__label-arrow:before {content: \"▸\";float: left;margin-right: 0.25em;color: #696969;}#sk-container-id-2 label.sk-toggleable__label-arrow:hover:before {color: black;}#sk-container-id-2 div.sk-estimator:hover label.sk-toggleable__label-arrow:before {color: black;}#sk-container-id-2 div.sk-toggleable__content {max-height: 0;max-width: 0;overflow: hidden;text-align: left;background-color: #f0f8ff;}#sk-container-id-2 div.sk-toggleable__content pre {margin: 0.2em;color: black;border-radius: 0.25em;background-color: #f0f8ff;}#sk-container-id-2 input.sk-toggleable__control:checked~div.sk-toggleable__content {max-height: 200px;max-width: 100%;overflow: auto;}#sk-container-id-2 input.sk-toggleable__control:checked~label.sk-toggleable__label-arrow:before {content: \"▾\";}#sk-container-id-2 div.sk-estimator input.sk-toggleable__control:checked~label.sk-toggleable__label {background-color: #d4ebff;}#sk-container-id-2 div.sk-label input.sk-toggleable__control:checked~label.sk-toggleable__label {background-color: #d4ebff;}#sk-container-id-2 input.sk-hidden--visually {border: 0;clip: rect(1px 1px 1px 1px);clip: rect(1px, 1px, 1px, 1px);height: 1px;margin: -1px;overflow: hidden;padding: 0;position: absolute;width: 1px;}#sk-container-id-2 div.sk-estimator {font-family: monospace;background-color: #f0f8ff;border: 1px dotted black;border-radius: 0.25em;box-sizing: border-box;margin-bottom: 0.5em;}#sk-container-id-2 div.sk-estimator:hover {background-color: #d4ebff;}#sk-container-id-2 div.sk-parallel-item::after {content: \"\";width: 100%;border-bottom: 1px solid gray;flex-grow: 1;}#sk-container-id-2 div.sk-label:hover label.sk-toggleable__label {background-color: #d4ebff;}#sk-container-id-2 div.sk-serial::before {content: \"\";position: absolute;border-left: 1px solid gray;box-sizing: border-box;top: 0;bottom: 0;left: 50%;z-index: 0;}#sk-container-id-2 div.sk-serial {display: flex;flex-direction: column;align-items: center;background-color: white;padding-right: 0.2em;padding-left: 0.2em;position: relative;}#sk-container-id-2 div.sk-item {position: relative;z-index: 1;}#sk-container-id-2 div.sk-parallel {display: flex;align-items: stretch;justify-content: center;background-color: white;position: relative;}#sk-container-id-2 div.sk-item::before, #sk-container-id-2 div.sk-parallel-item::before {content: \"\";position: absolute;border-left: 1px solid gray;box-sizing: border-box;top: 0;bottom: 0;left: 50%;z-index: -1;}#sk-container-id-2 div.sk-parallel-item {display: flex;flex-direction: column;z-index: 1;position: relative;background-color: white;}#sk-container-id-2 div.sk-parallel-item:first-child::after {align-self: flex-end;width: 50%;}#sk-container-id-2 div.sk-parallel-item:last-child::after {align-self: flex-start;width: 50%;}#sk-container-id-2 div.sk-parallel-item:only-child::after {width: 0;}#sk-container-id-2 div.sk-dashed-wrapped {border: 1px dashed gray;margin: 0 0.4em 0.5em 0.4em;box-sizing: border-box;padding-bottom: 0.4em;background-color: white;}#sk-container-id-2 div.sk-label label {font-family: monospace;font-weight: bold;display: inline-block;line-height: 1.2em;}#sk-container-id-2 div.sk-label-container {text-align: center;}#sk-container-id-2 div.sk-container {/* jupyter's `normalize.less` sets `[hidden] { display: none; }` but bootstrap.min.css set `[hidden] { display: none !important; }` so we also need the `!important` here to be able to override the default hidden behavior on the sphinx rendered scikit-learn.org. See: https://github.com/scikit-learn/scikit-learn/issues/21755 */display: inline-block !important;position: relative;}#sk-container-id-2 div.sk-text-repr-fallback {display: none;}</style><div id=\"sk-container-id-2\" class=\"sk-top-container\"><div class=\"sk-text-repr-fallback\"><pre>RandomForestClassifier(max_depth=10, random_state=0)</pre><b>In a Jupyter environment, please rerun this cell to show the HTML representation or trust the notebook. <br />On GitHub, the HTML representation is unable to render, please try loading this page with nbviewer.org.</b></div><div class=\"sk-container\" hidden><div class=\"sk-item\"><div class=\"sk-estimator sk-toggleable\"><input class=\"sk-toggleable__control sk-hidden--visually\" id=\"sk-estimator-id-2\" type=\"checkbox\" checked><label for=\"sk-estimator-id-2\" class=\"sk-toggleable__label sk-toggleable__label-arrow\">RandomForestClassifier</label><div class=\"sk-toggleable__content\"><pre>RandomForestClassifier(max_depth=10, random_state=0)</pre></div></div></div></div></div>"
            ]
          },
          "metadata": {},
          "execution_count": 75
        }
      ]
    },
    {
      "cell_type": "code",
      "source": [
        "features_test = features(x_paint)"
      ],
      "metadata": {
        "id": "UiBDZ5FYVsjh"
      },
      "execution_count": 76,
      "outputs": []
    },
    {
      "cell_type": "code",
      "source": [
        "y_pred = clf.predict(features_test)"
      ],
      "metadata": {
        "id": "rVVjt5eFjB7o"
      },
      "execution_count": 77,
      "outputs": []
    },
    {
      "cell_type": "code",
      "source": [
        "accuracy_score(onehot_to_label(y_paint), y_pred)"
      ],
      "metadata": {
        "colab": {
          "base_uri": "https://localhost:8080/"
        },
        "id": "sX4I0A5AjK7g",
        "outputId": "e09b47a5-86a7-4761-a86a-97c5c16272df"
      },
      "execution_count": 78,
      "outputs": [
        {
          "output_type": "execute_result",
          "data": {
            "text/plain": [
              "0.09269785745518146"
            ]
          },
          "metadata": {},
          "execution_count": 78
        }
      ]
    },
    {
      "cell_type": "code",
      "source": [],
      "metadata": {
        "id": "EDRPjcabXaOG"
      },
      "execution_count": null,
      "outputs": []
    }
  ]
}