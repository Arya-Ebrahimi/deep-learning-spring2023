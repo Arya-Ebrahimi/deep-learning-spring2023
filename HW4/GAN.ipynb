{
  "nbformat": 4,
  "nbformat_minor": 0,
  "metadata": {
    "colab": {
      "provenance": [],
      "gpuType": "T4"
    },
    "kernelspec": {
      "name": "python3",
      "display_name": "Python 3"
    },
    "language_info": {
      "name": "python"
    },
    "accelerator": "GPU"
  },
  "cells": [
    {
      "cell_type": "code",
      "execution_count": null,
      "metadata": {
        "id": "5H2OLnxEo0ac"
      },
      "outputs": [],
      "source": [
        "import matplotlib.pyplot as plt\n",
        "import tensorflow as tf\n",
        "import tensorflow.keras.layers as layers\n",
        "from tensorflow.keras.models import Model\n",
        "import gc\n",
        "import numpy as np"
      ]
    },
    {
      "cell_type": "code",
      "source": [
        "(x_train, y_train), (x_test, y_test) = tf.keras.datasets.cifar10.load_data()\n",
        "x_train = x_train/255.0\n",
        "x_test = x_test/255.0"
      ],
      "metadata": {
        "id": "d83uMFzCpAkG",
        "colab": {
          "base_uri": "https://localhost:8080/"
        },
        "outputId": "08ef4732-5cc6-4ea0-8c65-7f793ff58efa"
      },
      "execution_count": null,
      "outputs": [
        {
          "output_type": "stream",
          "name": "stdout",
          "text": [
            "Downloading data from https://www.cs.toronto.edu/~kriz/cifar-10-python.tar.gz\n",
            "170498071/170498071 [==============================] - 4s 0us/step\n"
          ]
        }
      ]
    },
    {
      "cell_type": "code",
      "source": [
        "d_input = layers.Input(shape=(32, 32, 3))\n",
        "x = layers.Conv2D(32, (4, 4), strides=2, padding=\"same\")(d_input)\n",
        "x = layers.LeakyReLU(alpha=0.2)(x)\n",
        "x = layers.Conv2D(64, (4, 4), strides=2, padding=\"same\")(x)\n",
        "x = layers.LeakyReLU(alpha=0.2)(x)\n",
        "x = layers.Conv2D(64, (4, 4), strides=2, padding=\"same\")(x)\n",
        "x = layers.LeakyReLU(alpha=0.2)(x)\n",
        "features = layers.Flatten()(x)\n",
        "x = layers.Dropout(0.2)(features)\n",
        "x = layers.Dense(1, activation=\"sigmoid\")(x)\n",
        "\n",
        "discriminator = Model(d_input, x, name='discriminator')\n",
        "feature_model = Model(d_input, features, name='feature_model')\n",
        "discriminator.summary()"
      ],
      "metadata": {
        "colab": {
          "base_uri": "https://localhost:8080/"
        },
        "id": "vfQFeRegC-rv",
        "outputId": "ba2324ae-534e-40a4-fc72-532aa302c031"
      },
      "execution_count": null,
      "outputs": [
        {
          "output_type": "stream",
          "name": "stdout",
          "text": [
            "Model: \"discriminator\"\n",
            "_________________________________________________________________\n",
            " Layer (type)                Output Shape              Param #   \n",
            "=================================================================\n",
            " input_7 (InputLayer)        [(None, 32, 32, 3)]       0         \n",
            "                                                                 \n",
            " conv2d_12 (Conv2D)          (None, 16, 16, 32)        1568      \n",
            "                                                                 \n",
            " leaky_re_lu_18 (LeakyReLU)  (None, 16, 16, 32)        0         \n",
            "                                                                 \n",
            " conv2d_13 (Conv2D)          (None, 8, 8, 64)          32832     \n",
            "                                                                 \n",
            " leaky_re_lu_19 (LeakyReLU)  (None, 8, 8, 64)          0         \n",
            "                                                                 \n",
            " conv2d_14 (Conv2D)          (None, 4, 4, 64)          65600     \n",
            "                                                                 \n",
            " leaky_re_lu_20 (LeakyReLU)  (None, 4, 4, 64)          0         \n",
            "                                                                 \n",
            " flatten_3 (Flatten)         (None, 1024)              0         \n",
            "                                                                 \n",
            " dropout_3 (Dropout)         (None, 1024)              0         \n",
            "                                                                 \n",
            " dense_6 (Dense)             (None, 1)                 1025      \n",
            "                                                                 \n",
            "=================================================================\n",
            "Total params: 101,025\n",
            "Trainable params: 101,025\n",
            "Non-trainable params: 0\n",
            "_________________________________________________________________\n"
          ]
        }
      ]
    },
    {
      "cell_type": "code",
      "source": [
        "generator = tf.keras.Sequential(\n",
        "    [\n",
        "        layers.Input(shape=(64,)),\n",
        "        layers.Dense(1024),\n",
        "        layers.Reshape((4, 4, 64)),\n",
        "        layers.Conv2DTranspose(64, (4, 4), strides=2, padding=\"same\"),\n",
        "        layers.LeakyReLU(alpha=0.2),\n",
        "        layers.Conv2DTranspose(64, (4, 4), strides=2, padding=\"same\"),\n",
        "        layers.LeakyReLU(alpha=0.2),\n",
        "        layers.Conv2DTranspose(32, (4, 4), strides=2, padding=\"same\"),\n",
        "        layers.LeakyReLU(alpha=0.2),\n",
        "        layers.Conv2D(3, kernel_size=5, padding=\"same\", activation=\"sigmoid\"),\n",
        "    ],\n",
        "    name='generator'\n",
        ")\n",
        "\n",
        "generator.summary()"
      ],
      "metadata": {
        "colab": {
          "base_uri": "https://localhost:8080/"
        },
        "id": "SczzX3BaqHS8",
        "outputId": "66b6e5f0-f5a7-4de0-e2c6-afb2ac58af26"
      },
      "execution_count": null,
      "outputs": [
        {
          "output_type": "stream",
          "name": "stdout",
          "text": [
            "Model: \"generator\"\n",
            "_________________________________________________________________\n",
            " Layer (type)                Output Shape              Param #   \n",
            "=================================================================\n",
            " dense_7 (Dense)             (None, 1024)              66560     \n",
            "                                                                 \n",
            " reshape_3 (Reshape)         (None, 4, 4, 64)          0         \n",
            "                                                                 \n",
            " conv2d_transpose_9 (Conv2DT  (None, 8, 8, 64)         65600     \n",
            " ranspose)                                                       \n",
            "                                                                 \n",
            " leaky_re_lu_21 (LeakyReLU)  (None, 8, 8, 64)          0         \n",
            "                                                                 \n",
            " conv2d_transpose_10 (Conv2D  (None, 16, 16, 64)       65600     \n",
            " Transpose)                                                      \n",
            "                                                                 \n",
            " leaky_re_lu_22 (LeakyReLU)  (None, 16, 16, 64)        0         \n",
            "                                                                 \n",
            " conv2d_transpose_11 (Conv2D  (None, 32, 32, 32)       32800     \n",
            " Transpose)                                                      \n",
            "                                                                 \n",
            " leaky_re_lu_23 (LeakyReLU)  (None, 32, 32, 32)        0         \n",
            "                                                                 \n",
            " conv2d_15 (Conv2D)          (None, 32, 32, 3)         2403      \n",
            "                                                                 \n",
            "=================================================================\n",
            "Total params: 232,963\n",
            "Trainable params: 232,963\n",
            "Non-trainable params: 0\n",
            "_________________________________________________________________\n"
          ]
        }
      ]
    },
    {
      "cell_type": "code",
      "source": [
        "class GAN(tf.keras.Model):\n",
        "    def __init__(self, discriminator, generator, latent_dim):\n",
        "        super().__init__()\n",
        "        self.discriminator = discriminator\n",
        "        self.generator = generator\n",
        "        self.latent_dim = latent_dim\n",
        "\n",
        "    def compile(self, d_optimizer, g_optimizer, loss_fn):\n",
        "        super().compile()\n",
        "        self.d_optimizer = d_optimizer\n",
        "        self.g_optimizer = g_optimizer\n",
        "        self.loss_fn = loss_fn\n",
        "        self.d_loss_metric = tf.keras.metrics.Mean(name=\"d_loss\")\n",
        "        self.g_loss_metric = tf.keras.metrics.Mean(name=\"g_loss\")\n",
        "\n",
        "    @property\n",
        "    def metrics(self):\n",
        "        return [self.d_loss_metric, self.g_loss_metric]\n",
        "\n",
        "    def train_step(self, real_images):\n",
        "        # print(real_images.shape)\n",
        "        # Sample random points in the latent space\n",
        "        batch_size = tf.shape(real_images)[0]\n",
        "        random_latent_vectors = tf.random.normal(shape=(batch_size, self.latent_dim))\n",
        "        # Decode them to fake images\n",
        "        generated_images = self.generator(random_latent_vectors)\n",
        "        # Combine them with real images\n",
        "        combined_images = tf.concat([generated_images, real_images], axis=0)\n",
        "\n",
        "        # Assemble labels discriminating real from fake images\n",
        "        labels = tf.concat(\n",
        "            [tf.ones((batch_size, 1)), tf.zeros((batch_size, 1))], axis=0\n",
        "        )\n",
        "        # Add random noise to the labels - important trick!\n",
        "        labels += 0.05 * tf.random.uniform(tf.shape(labels))\n",
        "\n",
        "        # Train the discriminator\n",
        "        with tf.GradientTape() as tape:\n",
        "            predictions = self.discriminator(combined_images)\n",
        "            d_loss = self.loss_fn(labels, predictions)\n",
        "        grads = tape.gradient(d_loss, self.discriminator.trainable_weights)\n",
        "        self.d_optimizer.apply_gradients(\n",
        "            zip(grads, self.discriminator.trainable_weights)\n",
        "        )\n",
        "\n",
        "        # Sample random points in the latent space\n",
        "        random_latent_vectors = tf.random.normal(shape=(batch_size, self.latent_dim))\n",
        "\n",
        "        # Assemble labels that say \"all real images\"\n",
        "        misleading_labels = tf.zeros((batch_size, 1))\n",
        "\n",
        "        # Train the generator (note that we should *not* update the weights\n",
        "        # of the discriminator)!\n",
        "        with tf.GradientTape() as tape:\n",
        "            predictions = self.discriminator(self.generator(random_latent_vectors))\n",
        "            g_loss = self.loss_fn(misleading_labels, predictions)\n",
        "        grads = tape.gradient(g_loss, self.generator.trainable_weights)\n",
        "        self.g_optimizer.apply_gradients(zip(grads, self.generator.trainable_weights))\n",
        "\n",
        "        # Update metrics\n",
        "        self.d_loss_metric.update_state(d_loss)\n",
        "        self.g_loss_metric.update_state(g_loss)\n",
        "        return {\n",
        "            \"d_loss\": self.d_loss_metric.result(),\n",
        "            \"g_loss\": self.g_loss_metric.result(),\n",
        "        }"
      ],
      "metadata": {
        "id": "0jnVCeLCrjDc"
      },
      "execution_count": null,
      "outputs": []
    },
    {
      "cell_type": "code",
      "source": [
        "gan = GAN(discriminator=discriminator, generator=generator, latent_dim=64)"
      ],
      "metadata": {
        "id": "EFVxJXLssgDV"
      },
      "execution_count": null,
      "outputs": []
    },
    {
      "cell_type": "code",
      "source": [
        "gc.collect()"
      ],
      "metadata": {
        "colab": {
          "base_uri": "https://localhost:8080/"
        },
        "id": "xwbSjD1Ut8Xn",
        "outputId": "9e67f9a6-ac26-419b-a4d0-45d5aa4c6e0a"
      },
      "execution_count": null,
      "outputs": [
        {
          "output_type": "execute_result",
          "data": {
            "text/plain": [
              "56714"
            ]
          },
          "metadata": {},
          "execution_count": 67
        }
      ]
    },
    {
      "cell_type": "code",
      "source": [
        "gan.compile(\n",
        "    d_optimizer=tf.keras.optimizers.Adam(learning_rate=0.0001),\n",
        "    g_optimizer=tf.keras.optimizers.Adam(learning_rate=0.0001),\n",
        "    loss_fn=tf.keras.losses.BinaryCrossentropy(),\n",
        ")\n",
        "\n",
        "h = gan.fit(\n",
        "    x_train,\n",
        "    epochs=75,\n",
        "    batch_size=128,\n",
        "    shuffle=True,\n",
        ")"
      ],
      "metadata": {
        "colab": {
          "base_uri": "https://localhost:8080/"
        },
        "id": "swUdcmpZtW9t",
        "outputId": "59035140-2f31-462a-96f2-c4535ed02b3b"
      },
      "execution_count": null,
      "outputs": [
        {
          "output_type": "stream",
          "name": "stdout",
          "text": [
            "Epoch 1/75\n",
            "391/391 [==============================] - 13s 23ms/step - d_loss: 0.5457 - g_loss: 1.2588\n",
            "Epoch 2/75\n",
            "391/391 [==============================] - 9s 23ms/step - d_loss: 0.5543 - g_loss: 1.1389\n",
            "Epoch 3/75\n",
            "391/391 [==============================] - 9s 23ms/step - d_loss: 0.6082 - g_loss: 1.1938\n",
            "Epoch 4/75\n",
            "391/391 [==============================] - 9s 23ms/step - d_loss: 0.5398 - g_loss: 1.3659\n",
            "Epoch 5/75\n",
            "391/391 [==============================] - 9s 24ms/step - d_loss: 0.6061 - g_loss: 1.1628\n",
            "Epoch 6/75\n",
            "391/391 [==============================] - 9s 23ms/step - d_loss: 0.6173 - g_loss: 0.9423\n",
            "Epoch 7/75\n",
            "391/391 [==============================] - 9s 22ms/step - d_loss: 0.6391 - g_loss: 1.0010\n",
            "Epoch 8/75\n",
            "391/391 [==============================] - 9s 23ms/step - d_loss: 0.5946 - g_loss: 1.0939\n",
            "Epoch 9/75\n",
            "391/391 [==============================] - 9s 23ms/step - d_loss: 0.5655 - g_loss: 1.3175\n",
            "Epoch 10/75\n",
            "391/391 [==============================] - 9s 23ms/step - d_loss: 0.5452 - g_loss: 1.3267\n",
            "Epoch 11/75\n",
            "391/391 [==============================] - 9s 22ms/step - d_loss: 0.6805 - g_loss: 0.8516\n",
            "Epoch 12/75\n",
            "391/391 [==============================] - 9s 23ms/step - d_loss: 0.6387 - g_loss: 0.9279\n",
            "Epoch 13/75\n",
            "391/391 [==============================] - 9s 23ms/step - d_loss: 0.6608 - g_loss: 0.9530\n",
            "Epoch 14/75\n",
            "391/391 [==============================] - 9s 23ms/step - d_loss: 0.6202 - g_loss: 1.0303\n",
            "Epoch 15/75\n",
            "391/391 [==============================] - 9s 23ms/step - d_loss: 0.5804 - g_loss: 1.0314\n",
            "Epoch 16/75\n",
            "391/391 [==============================] - 9s 23ms/step - d_loss: 0.6195 - g_loss: 0.9513\n",
            "Epoch 17/75\n",
            "391/391 [==============================] - 9s 23ms/step - d_loss: 0.6767 - g_loss: 1.0094\n",
            "Epoch 18/75\n",
            "391/391 [==============================] - 9s 22ms/step - d_loss: 0.6410 - g_loss: 1.0495\n",
            "Epoch 19/75\n",
            "391/391 [==============================] - 9s 23ms/step - d_loss: 0.6222 - g_loss: 0.9481\n",
            "Epoch 20/75\n",
            "391/391 [==============================] - 9s 23ms/step - d_loss: 0.6602 - g_loss: 0.8834\n",
            "Epoch 21/75\n",
            "391/391 [==============================] - 9s 23ms/step - d_loss: 0.6860 - g_loss: 0.9721\n",
            "Epoch 22/75\n",
            "391/391 [==============================] - 9s 23ms/step - d_loss: 0.6437 - g_loss: 0.9680\n",
            "Epoch 23/75\n",
            "391/391 [==============================] - 9s 23ms/step - d_loss: 0.6542 - g_loss: 0.9257\n",
            "Epoch 24/75\n",
            "391/391 [==============================] - 9s 23ms/step - d_loss: 0.6173 - g_loss: 0.9792\n",
            "Epoch 25/75\n",
            "391/391 [==============================] - 9s 23ms/step - d_loss: 0.6365 - g_loss: 0.9892\n",
            "Epoch 26/75\n",
            "391/391 [==============================] - 9s 23ms/step - d_loss: 0.6644 - g_loss: 0.8561\n",
            "Epoch 27/75\n",
            "391/391 [==============================] - 9s 23ms/step - d_loss: 0.6575 - g_loss: 0.8792\n",
            "Epoch 28/75\n",
            "391/391 [==============================] - 9s 23ms/step - d_loss: 0.6647 - g_loss: 0.8207\n",
            "Epoch 29/75\n",
            "391/391 [==============================] - 9s 22ms/step - d_loss: 0.6677 - g_loss: 0.8447\n",
            "Epoch 30/75\n",
            "391/391 [==============================] - 9s 23ms/step - d_loss: 0.6576 - g_loss: 0.8965\n",
            "Epoch 31/75\n",
            "391/391 [==============================] - 9s 23ms/step - d_loss: 0.6595 - g_loss: 0.8940\n",
            "Epoch 32/75\n",
            "391/391 [==============================] - 9s 22ms/step - d_loss: 0.6831 - g_loss: 0.8336\n",
            "Epoch 33/75\n",
            "391/391 [==============================] - 9s 23ms/step - d_loss: 0.6533 - g_loss: 0.8762\n",
            "Epoch 34/75\n",
            "391/391 [==============================] - 9s 23ms/step - d_loss: 0.6639 - g_loss: 0.8541\n",
            "Epoch 35/75\n",
            "391/391 [==============================] - 9s 23ms/step - d_loss: 0.6770 - g_loss: 0.8636\n",
            "Epoch 36/75\n",
            "391/391 [==============================] - 9s 23ms/step - d_loss: 0.6549 - g_loss: 0.8955\n",
            "Epoch 37/75\n",
            "391/391 [==============================] - 9s 23ms/step - d_loss: 0.6600 - g_loss: 0.9000\n",
            "Epoch 38/75\n",
            "391/391 [==============================] - 9s 23ms/step - d_loss: 0.6469 - g_loss: 0.9972\n",
            "Epoch 39/75\n",
            "391/391 [==============================] - 9s 23ms/step - d_loss: 0.6687 - g_loss: 0.8822\n",
            "Epoch 40/75\n",
            "391/391 [==============================] - 9s 23ms/step - d_loss: 0.6948 - g_loss: 0.8257\n",
            "Epoch 41/75\n",
            "391/391 [==============================] - 9s 23ms/step - d_loss: 0.6799 - g_loss: 0.8807\n",
            "Epoch 42/75\n",
            "391/391 [==============================] - 9s 23ms/step - d_loss: 0.6947 - g_loss: 0.8352\n",
            "Epoch 43/75\n",
            "391/391 [==============================] - 9s 23ms/step - d_loss: 0.7057 - g_loss: 0.8345\n",
            "Epoch 44/75\n",
            "391/391 [==============================] - 9s 22ms/step - d_loss: 0.6752 - g_loss: 0.8467\n",
            "Epoch 45/75\n",
            "391/391 [==============================] - 9s 23ms/step - d_loss: 0.6774 - g_loss: 0.8375\n",
            "Epoch 46/75\n",
            "391/391 [==============================] - 9s 23ms/step - d_loss: 0.6797 - g_loss: 0.8267\n",
            "Epoch 47/75\n",
            "391/391 [==============================] - 9s 22ms/step - d_loss: 0.6776 - g_loss: 0.8410\n",
            "Epoch 48/75\n",
            "391/391 [==============================] - 9s 23ms/step - d_loss: 0.6662 - g_loss: 0.9805\n",
            "Epoch 49/75\n",
            "391/391 [==============================] - 9s 23ms/step - d_loss: 0.6360 - g_loss: 0.9013\n",
            "Epoch 50/75\n",
            "391/391 [==============================] - 9s 23ms/step - d_loss: 0.6458 - g_loss: 0.8624\n",
            "Epoch 51/75\n",
            "391/391 [==============================] - 9s 22ms/step - d_loss: 0.6746 - g_loss: 0.8718\n",
            "Epoch 52/75\n",
            "391/391 [==============================] - 9s 23ms/step - d_loss: 0.6519 - g_loss: 0.8968\n",
            "Epoch 53/75\n",
            "391/391 [==============================] - 9s 23ms/step - d_loss: 0.6720 - g_loss: 0.8402\n",
            "Epoch 54/75\n",
            "391/391 [==============================] - 9s 22ms/step - d_loss: 0.6721 - g_loss: 0.8231\n",
            "Epoch 55/75\n",
            "391/391 [==============================] - 9s 22ms/step - d_loss: 0.6715 - g_loss: 0.8272\n",
            "Epoch 56/75\n",
            "391/391 [==============================] - 9s 23ms/step - d_loss: 0.6820 - g_loss: 0.8308\n",
            "Epoch 57/75\n",
            "391/391 [==============================] - 9s 23ms/step - d_loss: 0.6906 - g_loss: 0.8215\n",
            "Epoch 58/75\n",
            "391/391 [==============================] - 9s 22ms/step - d_loss: 0.6859 - g_loss: 0.8127\n",
            "Epoch 59/75\n",
            "391/391 [==============================] - 9s 23ms/step - d_loss: 0.6717 - g_loss: 0.8369\n",
            "Epoch 60/75\n",
            "391/391 [==============================] - 9s 23ms/step - d_loss: 0.6839 - g_loss: 0.8132\n",
            "Epoch 61/75\n",
            "391/391 [==============================] - 9s 22ms/step - d_loss: 0.6765 - g_loss: 0.8411\n",
            "Epoch 62/75\n",
            "391/391 [==============================] - 9s 23ms/step - d_loss: 0.6716 - g_loss: 0.8643\n",
            "Epoch 63/75\n",
            "391/391 [==============================] - 9s 23ms/step - d_loss: 0.6667 - g_loss: 0.8556\n",
            "Epoch 64/75\n",
            "391/391 [==============================] - 9s 23ms/step - d_loss: 0.6864 - g_loss: 0.8257\n",
            "Epoch 65/75\n",
            "391/391 [==============================] - 9s 22ms/step - d_loss: 0.6725 - g_loss: 0.8519\n",
            "Epoch 66/75\n",
            "391/391 [==============================] - 9s 23ms/step - d_loss: 0.6675 - g_loss: 0.8634\n",
            "Epoch 67/75\n",
            "391/391 [==============================] - 9s 23ms/step - d_loss: 0.6720 - g_loss: 0.8616\n",
            "Epoch 68/75\n",
            "391/391 [==============================] - 9s 23ms/step - d_loss: 0.6615 - g_loss: 0.8537\n",
            "Epoch 69/75\n",
            "391/391 [==============================] - 9s 22ms/step - d_loss: 0.6792 - g_loss: 0.8757\n",
            "Epoch 70/75\n",
            "391/391 [==============================] - 9s 23ms/step - d_loss: 0.6480 - g_loss: 0.9085\n",
            "Epoch 71/75\n",
            "391/391 [==============================] - 9s 23ms/step - d_loss: 0.6834 - g_loss: 0.9034\n",
            "Epoch 72/75\n",
            "391/391 [==============================] - 9s 22ms/step - d_loss: 0.6653 - g_loss: 0.9079\n",
            "Epoch 73/75\n",
            "391/391 [==============================] - 9s 23ms/step - d_loss: 0.6430 - g_loss: 0.8845\n",
            "Epoch 74/75\n",
            "391/391 [==============================] - 9s 23ms/step - d_loss: 0.6590 - g_loss: 0.8436\n",
            "Epoch 75/75\n",
            "391/391 [==============================] - 9s 23ms/step - d_loss: 0.6694 - g_loss: 0.8494\n"
          ]
        }
      ]
    },
    {
      "cell_type": "code",
      "source": [
        "from matplotlib import pyplot as plt\n",
        "plt.plot(h.history['g_loss'])\n",
        "plt.plot(h.history['d_loss'])\n",
        "plt.title('GAN losses')\n",
        "plt.ylabel('loss')\n",
        "plt.xlabel('epoch')\n",
        "plt.legend(['generator loss', 'descriminator loss'], loc='upper left')\n",
        "plt.show()"
      ],
      "metadata": {
        "colab": {
          "base_uri": "https://localhost:8080/",
          "height": 472
        },
        "id": "0Vb8yJ_x_Urf",
        "outputId": "8c9637e7-21d2-4dd3-9319-358672cf95aa"
      },
      "execution_count": null,
      "outputs": [
        {
          "output_type": "display_data",
          "data": {
            "text/plain": [
              "<Figure size 640x480 with 1 Axes>"
            ],
            "image/png": "[encoded data removed]"
          },
          "metadata": {}
        }
      ]
    },
    {
      "cell_type": "code",
      "source": [
        "test = tf.random.normal(shape=(10, 64))"
      ],
      "metadata": {
        "id": "uggjfuzZv102"
      },
      "execution_count": null,
      "outputs": []
    },
    {
      "cell_type": "code",
      "source": [
        "fake = gan.generator(test)"
      ],
      "metadata": {
        "id": "Ikeyut08-6KW"
      },
      "execution_count": null,
      "outputs": []
    },
    {
      "cell_type": "code",
      "source": [
        "def display(x1):\n",
        "    n = 5  # How many digits we will display\n",
        "    plt.figure(figsize=(12, 6))\n",
        "    for i in range(n):\n",
        "        # Display original\n",
        "        ax = plt.subplot(2, n, i + 1)\n",
        "        plt.imshow(x1[i])\n",
        "        ax.get_xaxis().set_visible(False)\n",
        "        ax.get_yaxis().set_visible(False)\n",
        "\n",
        "    plt.show()\n",
        "\n",
        "display(fake)"
      ],
      "metadata": {
        "colab": {
          "base_uri": "https://localhost:8080/",
          "height": 217
        },
        "id": "1LhXiT6x_P6Q",
        "outputId": "fd671283-9c4a-4fc9-9061-0c540f09d333"
      },
      "execution_count": null,
      "outputs": [
        {
          "output_type": "display_data",
          "data": {
            "text/plain": [
              "<Figure size 1200x600 with 5 Axes>"
            ],
            "image/png": "[encoded data removed]"
          },
          "metadata": {}
        }
      ]
    },
    {
      "cell_type": "code",
      "source": [
        "features = feature_model(x_train)"
      ],
      "metadata": {
        "id": "P4cCp0c5_WZI"
      },
      "execution_count": null,
      "outputs": []
    },
    {
      "cell_type": "code",
      "source": [
        "from sklearn.ensemble import RandomForestClassifier\n",
        "from sklearn.metrics import accuracy_score\n",
        "\n",
        "clf = RandomForestClassifier(max_depth=10, random_state=0)\n",
        "clf.fit(features, y_train)"
      ],
      "metadata": {
        "colab": {
          "base_uri": "https://localhost:8080/",
          "height": 131
        },
        "id": "RjLMsHN4Gvgn",
        "outputId": "0273cb89-6f58-485d-bc6d-7fc5d7ac68fa"
      },
      "execution_count": null,
      "outputs": [
        {
          "output_type": "stream",
          "name": "stderr",
          "text": [
            "<ipython-input-74-91d036876d26>:5: DataConversionWarning: A column-vector y was passed when a 1d array was expected. Please change the shape of y to (n_samples,), for example using ravel().\n",
            "  clf.fit(features, y_train)\n"
          ]
        },
        {
          "output_type": "execute_result",
          "data": {
            "text/plain": [
              "RandomForestClassifier(max_depth=10, random_state=0)"
            ],
            "text/html": [
              "<style>#sk-container-id-2 {color: black;background-color: white;}#sk-container-id-2 pre{padding: 0;}#sk-container-id-2 div.sk-toggleable {background-color: white;}#sk-container-id-2 label.sk-toggleable__label {cursor: pointer;display: block;width: 100%;margin-bottom: 0;padding: 0.3em;box-sizing: border-box;text-align: center;}#sk-container-id-2 label.sk-toggleable__label-arrow:before {content: \"▸\";float: left;margin-right: 0.25em;color: #696969;}#sk-container-id-2 label.sk-toggleable__label-arrow:hover:before {color: black;}#sk-container-id-2 div.sk-estimator:hover label.sk-toggleable__label-arrow:before {color: black;}#sk-container-id-2 div.sk-toggleable__content {max-height: 0;max-width: 0;overflow: hidden;text-align: left;background-color: #f0f8ff;}#sk-container-id-2 div.sk-toggleable__content pre {margin: 0.2em;color: black;border-radius: 0.25em;background-color: #f0f8ff;}#sk-container-id-2 input.sk-toggleable__control:checked~div.sk-toggleable__content {max-height: 200px;max-width: 100%;overflow: auto;}#sk-container-id-2 input.sk-toggleable__control:checked~label.sk-toggleable__label-arrow:before {content: \"▾\";}#sk-container-id-2 div.sk-estimator input.sk-toggleable__control:checked~label.sk-toggleable__label {background-color: #d4ebff;}#sk-container-id-2 div.sk-label input.sk-toggleable__control:checked~label.sk-toggleable__label {background-color: #d4ebff;}#sk-container-id-2 input.sk-hidden--visually {border: 0;clip: rect(1px 1px 1px 1px);clip: rect(1px, 1px, 1px, 1px);height: 1px;margin: -1px;overflow: hidden;padding: 0;position: absolute;width: 1px;}#sk-container-id-2 div.sk-estimator {font-family: monospace;background-color: #f0f8ff;border: 1px dotted black;border-radius: 0.25em;box-sizing: border-box;margin-bottom: 0.5em;}#sk-container-id-2 div.sk-estimator:hover {background-color: #d4ebff;}#sk-container-id-2 div.sk-parallel-item::after {content: \"\";width: 100%;border-bottom: 1px solid gray;flex-grow: 1;}#sk-container-id-2 div.sk-label:hover label.sk-toggleable__label {background-color: #d4ebff;}#sk-container-id-2 div.sk-serial::before {content: \"\";position: absolute;border-left: 1px solid gray;box-sizing: border-box;top: 0;bottom: 0;left: 50%;z-index: 0;}#sk-container-id-2 div.sk-serial {display: flex;flex-direction: column;align-items: center;background-color: white;padding-right: 0.2em;padding-left: 0.2em;position: relative;}#sk-container-id-2 div.sk-item {position: relative;z-index: 1;}#sk-container-id-2 div.sk-parallel {display: flex;align-items: stretch;justify-content: center;background-color: white;position: relative;}#sk-container-id-2 div.sk-item::before, #sk-container-id-2 div.sk-parallel-item::before {content: \"\";position: absolute;border-left: 1px solid gray;box-sizing: border-box;top: 0;bottom: 0;left: 50%;z-index: -1;}#sk-container-id-2 div.sk-parallel-item {display: flex;flex-direction: column;z-index: 1;position: relative;background-color: white;}#sk-container-id-2 div.sk-parallel-item:first-child::after {align-self: flex-end;width: 50%;}#sk-container-id-2 div.sk-parallel-item:last-child::after {align-self: flex-start;width: 50%;}#sk-container-id-2 div.sk-parallel-item:only-child::after {width: 0;}#sk-container-id-2 div.sk-dashed-wrapped {border: 1px dashed gray;margin: 0 0.4em 0.5em 0.4em;box-sizing: border-box;padding-bottom: 0.4em;background-color: white;}#sk-container-id-2 div.sk-label label {font-family: monospace;font-weight: bold;display: inline-block;line-height: 1.2em;}#sk-container-id-2 div.sk-label-container {text-align: center;}#sk-container-id-2 div.sk-container {/* jupyter's `normalize.less` sets `[hidden] { display: none; }` but bootstrap.min.css set `[hidden] { display: none !important; }` so we also need the `!important` here to be able to override the default hidden behavior on the sphinx rendered scikit-learn.org. See: https://github.com/scikit-learn/scikit-learn/issues/21755 */display: inline-block !important;position: relative;}#sk-container-id-2 div.sk-text-repr-fallback {display: none;}</style><div id=\"sk-container-id-2\" class=\"sk-top-container\"><div class=\"sk-text-repr-fallback\"><pre>RandomForestClassifier(max_depth=10, random_state=0)</pre><b>In a Jupyter environment, please rerun this cell to show the HTML representation or trust the notebook. <br />On GitHub, the HTML representation is unable to render, please try loading this page with nbviewer.org.</b></div><div class=\"sk-container\" hidden><div class=\"sk-item\"><div class=\"sk-estimator sk-toggleable\"><input class=\"sk-toggleable__control sk-hidden--visually\" id=\"sk-estimator-id-2\" type=\"checkbox\" checked><label for=\"sk-estimator-id-2\" class=\"sk-toggleable__label sk-toggleable__label-arrow\">RandomForestClassifier</label><div class=\"sk-toggleable__content\"><pre>RandomForestClassifier(max_depth=10, random_state=0)</pre></div></div></div></div></div>"
            ]
          },
          "metadata": {},
          "execution_count": 74
        }
      ]
    },
    {
      "cell_type": "code",
      "source": [
        "test_features = feature_model(x_test)"
      ],
      "metadata": {
        "id": "a-6qqAlOX3Jr"
      },
      "execution_count": null,
      "outputs": []
    },
    {
      "cell_type": "code",
      "source": [
        "y_pred = clf.predict(test_features)"
      ],
      "metadata": {
        "id": "UfLRDeEHHVV8"
      },
      "execution_count": null,
      "outputs": []
    },
    {
      "cell_type": "code",
      "source": [
        "accuracy_score(y_test, y_pred)"
      ],
      "metadata": {
        "colab": {
          "base_uri": "https://localhost:8080/"
        },
        "id": "3EHRLgZHIkfN",
        "outputId": "fcdec9b7-78a0-47cc-8850-798b3b672702"
      },
      "execution_count": null,
      "outputs": [
        {
          "output_type": "execute_result",
          "data": {
            "text/plain": [
              "0.4281"
            ]
          },
          "metadata": {},
          "execution_count": 77
        }
      ]
    }
  ]
}