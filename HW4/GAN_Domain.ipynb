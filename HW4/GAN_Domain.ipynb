{
  "nbformat": 4,
  "nbformat_minor": 0,
  "metadata": {
    "colab": {
      "provenance": [],
      "gpuType": "T4"
    },
    "kernelspec": {
      "name": "python3",
      "display_name": "Python 3"
    },
    "language_info": {
      "name": "python"
    },
    "accelerator": "GPU"
  },
  "cells": [
    {
      "cell_type": "code",
      "source": [
        "import matplotlib.pyplot as plt\n",
        "import tensorflow as tf\n",
        "import tensorflow.keras.layers as layers\n",
        "from tensorflow.keras.models import Model\n",
        "import gc\n",
        "import numpy as np\n",
        "from sklearn.datasets import load_files"
      ],
      "metadata": {
        "id": "klx7ImhQMMDr"
      },
      "execution_count": null,
      "outputs": []
    },
    {
      "cell_type": "code",
      "source": [
        "d_input = layers.Input(shape=(32, 32, 3))\n",
        "x = layers.Conv2D(64, (4, 4), strides=2, padding=\"same\")(d_input)\n",
        "x = layers.LeakyReLU(alpha=0.2)(x)\n",
        "x = layers.Conv2D(128, (4, 4), strides=2, padding=\"same\")(x)\n",
        "x = layers.LeakyReLU(alpha=0.2)(x)\n",
        "x = layers.Conv2D(128, (4, 4), strides=2, padding=\"same\")(x)\n",
        "x = layers.LeakyReLU(alpha=0.2)(x)\n",
        "x = layers.Conv2D(256, (4, 4), strides=2, padding=\"same\")(x)\n",
        "x = layers.LeakyReLU(alpha=0.2)(x)\n",
        "features = layers.Flatten()(x)\n",
        "x = layers.Dropout(0.4)(features)\n",
        "x = layers.Dense(1, activation=\"sigmoid\")(x)\n",
        "\n",
        "discriminator = Model(d_input, x, name='discriminator')\n",
        "feature_model = Model(d_input, features, name='feature_model')\n",
        "discriminator.summary()"
      ],
      "metadata": {
        "colab": {
          "base_uri": "https://localhost:8080/"
        },
        "outputId": "44d76bf7-3623-4eab-f0b2-b9e46863d8ab",
        "id": "0z1yMegioboi"
      },
      "execution_count": null,
      "outputs": [
        {
          "output_type": "stream",
          "name": "stdout",
          "text": [
            "Model: \"discriminator\"\n",
            "_________________________________________________________________\n",
            " Layer (type)                Output Shape              Param #   \n",
            "=================================================================\n",
            " input_1 (InputLayer)        [(None, 32, 32, 3)]       0         \n",
            "                                                                 \n",
            " conv2d (Conv2D)             (None, 16, 16, 64)        3136      \n",
            "                                                                 \n",
            " leaky_re_lu (LeakyReLU)     (None, 16, 16, 64)        0         \n",
            "                                                                 \n",
            " conv2d_1 (Conv2D)           (None, 8, 8, 128)         131200    \n",
            "                                                                 \n",
            " leaky_re_lu_1 (LeakyReLU)   (None, 8, 8, 128)         0         \n",
            "                                                                 \n",
            " conv2d_2 (Conv2D)           (None, 4, 4, 128)         262272    \n",
            "                                                                 \n",
            " leaky_re_lu_2 (LeakyReLU)   (None, 4, 4, 128)         0         \n",
            "                                                                 \n",
            " conv2d_3 (Conv2D)           (None, 2, 2, 256)         524544    \n",
            "                                                                 \n",
            " leaky_re_lu_3 (LeakyReLU)   (None, 2, 2, 256)         0         \n",
            "                                                                 \n",
            " flatten (Flatten)           (None, 1024)              0         \n",
            "                                                                 \n",
            " dropout (Dropout)           (None, 1024)              0         \n",
            "                                                                 \n",
            " dense (Dense)               (None, 1)                 1025      \n",
            "                                                                 \n",
            "=================================================================\n",
            "Total params: 922,177\n",
            "Trainable params: 922,177\n",
            "Non-trainable params: 0\n",
            "_________________________________________________________________\n"
          ]
        }
      ]
    },
    {
      "cell_type": "code",
      "source": [
        "generator = tf.keras.Sequential(\n",
        "    [\n",
        "        layers.Input(shape=(100,)),\n",
        "        layers.Dense(256*4*4),\n",
        "        layers.Reshape((4, 4, 256)),\n",
        "        layers.Conv2DTranspose(128, (4, 4), strides=2, padding=\"same\"),\n",
        "        layers.LeakyReLU(alpha=0.2),\n",
        "        layers.Conv2DTranspose(128, (4, 4), strides=2, padding=\"same\"),\n",
        "        layers.LeakyReLU(alpha=0.2),\n",
        "        layers.Conv2DTranspose(128, (4, 4), strides=2, padding=\"same\"),\n",
        "        layers.LeakyReLU(alpha=0.2),\n",
        "        layers.Conv2D(3, (3, 3), padding=\"same\", activation=\"tanh\"),\n",
        "    ],\n",
        "    name='generator'\n",
        ")\n",
        "\n",
        "generator.summary()"
      ],
      "metadata": {
        "colab": {
          "base_uri": "https://localhost:8080/"
        },
        "outputId": "63f61e3f-070b-461d-c7fc-db9d2083d6fd",
        "id": "bWoKC3K_obok"
      },
      "execution_count": null,
      "outputs": [
        {
          "output_type": "stream",
          "name": "stdout",
          "text": [
            "Model: \"generator\"\n",
            "_________________________________________________________________\n",
            " Layer (type)                Output Shape              Param #   \n",
            "=================================================================\n",
            " dense_1 (Dense)             (None, 4096)              413696    \n",
            "                                                                 \n",
            " reshape (Reshape)           (None, 4, 4, 256)         0         \n",
            "                                                                 \n",
            " conv2d_transpose (Conv2DTra  (None, 8, 8, 128)        524416    \n",
            " nspose)                                                         \n",
            "                                                                 \n",
            " leaky_re_lu_4 (LeakyReLU)   (None, 8, 8, 128)         0         \n",
            "                                                                 \n",
            " conv2d_transpose_1 (Conv2DT  (None, 16, 16, 128)      262272    \n",
            " ranspose)                                                       \n",
            "                                                                 \n",
            " leaky_re_lu_5 (LeakyReLU)   (None, 16, 16, 128)       0         \n",
            "                                                                 \n",
            " conv2d_transpose_2 (Conv2DT  (None, 32, 32, 128)      262272    \n",
            " ranspose)                                                       \n",
            "                                                                 \n",
            " leaky_re_lu_6 (LeakyReLU)   (None, 32, 32, 128)       0         \n",
            "                                                                 \n",
            " conv2d_4 (Conv2D)           (None, 32, 32, 3)         3459      \n",
            "                                                                 \n",
            "=================================================================\n",
            "Total params: 1,466,115\n",
            "Trainable params: 1,466,115\n",
            "Non-trainable params: 0\n",
            "_________________________________________________________________\n"
          ]
        }
      ]
    },
    {
      "cell_type": "code",
      "source": [
        "class GAN(tf.keras.Model):\n",
        "    def __init__(self, discriminator, generator, latent_dim):\n",
        "        super().__init__()\n",
        "        self.discriminator = discriminator\n",
        "        self.generator = generator\n",
        "        self.latent_dim = latent_dim\n",
        "\n",
        "    def compile(self, d_optimizer, g_optimizer, loss_fn):\n",
        "        super().compile()\n",
        "        self.d_optimizer = d_optimizer\n",
        "        self.g_optimizer = g_optimizer\n",
        "        self.loss_fn = loss_fn\n",
        "        self.d_loss_metric = tf.keras.metrics.Mean(name=\"d_loss\")\n",
        "        self.g_loss_metric = tf.keras.metrics.Mean(name=\"g_loss\")\n",
        "\n",
        "    @property\n",
        "    def metrics(self):\n",
        "        return [self.d_loss_metric, self.g_loss_metric]\n",
        "\n",
        "    def train_step(self, real_images):\n",
        "        # print(real_images.shape)\n",
        "        # Sample random points in the latent space\n",
        "        batch_size = tf.shape(real_images)[0]\n",
        "        random_latent_vectors = tf.random.normal(shape=(batch_size, self.latent_dim))\n",
        "        # Decode them to fake images\n",
        "        generated_images = self.generator(random_latent_vectors)\n",
        "        # Combine them with real images\n",
        "        combined_images = tf.concat([real_images, generated_images], axis=0)\n",
        "\n",
        "        # Assemble labels discriminating real from fake images\n",
        "        labels = tf.concat(\n",
        "            [tf.ones((batch_size, 1)), tf.zeros((batch_size, 1))], axis=0\n",
        "        )\n",
        "        # Add random noise to the labels - important trick!\n",
        "        # labels += 0.05 * tf.random.uniform(tf.shape(labels))\n",
        "\n",
        "        # Train the discriminator\n",
        "        with tf.GradientTape() as tape:\n",
        "            predictions = self.discriminator(combined_images)\n",
        "            d_loss = self.loss_fn(labels, predictions)\n",
        "        grads = tape.gradient(d_loss, self.discriminator.trainable_weights)\n",
        "        self.d_optimizer.apply_gradients(\n",
        "            zip(grads, self.discriminator.trainable_weights)\n",
        "        )\n",
        "\n",
        "        # Sample random points in the latent space\n",
        "        random_latent_vectors = tf.random.normal(shape=(batch_size, self.latent_dim))\n",
        "\n",
        "        # Assemble labels that say \"all real images\"\n",
        "        misleading_labels = tf.ones((batch_size, 1))\n",
        "\n",
        "        # Train the generator (note that we should *not* update the weights\n",
        "        # of the discriminator)!\n",
        "        self.discriminator.trainable=False\n",
        "        with tf.GradientTape() as tape:\n",
        "            predictions = self.discriminator(self.generator(random_latent_vectors))\n",
        "            g_loss = self.loss_fn(misleading_labels, predictions)\n",
        "        grads = tape.gradient(g_loss, self.generator.trainable_weights)\n",
        "        self.g_optimizer.apply_gradients(zip(grads, self.generator.trainable_weights))\n",
        "        self.discriminator.trainable=True\n",
        "        # Update metrics\n",
        "        self.d_loss_metric.update_state(d_loss)\n",
        "        self.g_loss_metric.update_state(g_loss)\n",
        "        return {\n",
        "            \"d_loss\": self.d_loss_metric.result(),\n",
        "            \"g_loss\": self.g_loss_metric.result(),\n",
        "        }"
      ],
      "metadata": {
        "id": "jqXK_GzOobol"
      },
      "execution_count": null,
      "outputs": []
    },
    {
      "cell_type": "code",
      "source": [
        "\n",
        "gan = GAN(discriminator=discriminator, generator=generator, latent_dim=100)"
      ],
      "metadata": {
        "id": "VmzT1n1Uobom"
      },
      "execution_count": null,
      "outputs": []
    },
    {
      "cell_type": "code",
      "source": [
        "gc.collect()"
      ],
      "metadata": {
        "colab": {
          "base_uri": "https://localhost:8080/"
        },
        "outputId": "ff79830f-3c00-45ca-c3a7-b0e1341c0838",
        "id": "qGyVU2Jnobop"
      },
      "execution_count": null,
      "outputs": [
        {
          "output_type": "execute_result",
          "data": {
            "text/plain": [
              "735"
            ]
          },
          "metadata": {},
          "execution_count": 6
        }
      ]
    },
    {
      "cell_type": "code",
      "source": [
        "gc.collect()"
      ],
      "metadata": {
        "colab": {
          "base_uri": "https://localhost:8080/"
        },
        "id": "xwbSjD1Ut8Xn",
        "outputId": "b0fcbcf2-477d-40d1-b4f5-8a1ad3252170"
      },
      "execution_count": null,
      "outputs": [
        {
          "output_type": "execute_result",
          "data": {
            "text/plain": [
              "0"
            ]
          },
          "metadata": {},
          "execution_count": 7
        }
      ]
    },
    {
      "cell_type": "code",
      "source": [
        "!wget --load-cookies /tmp/cookies.txt \"https://docs.google.com/uc?export=download&confirm=$(wget --quiet --save-cookies /tmp/cookies.txt --keep-session-cookies --no-check-certificate 'https://docs.google.com/uc?export=download&id=1-5Y_bbsUogkAlEz3f-4CflbT40jg-UFJ' -O- | sed -rn 's/.*confirm=([0-9A-Za-z_]+).*/\\1\\n/p')&id=1-5Y_bbsUogkAlEz3f-4CflbT40jg-UFJ\" -O 10_painting.zip && rm -rf /tmp/cookies.txt"
      ],
      "metadata": {
        "colab": {
          "base_uri": "https://localhost:8080/"
        },
        "id": "bR1JR_cjCuWf",
        "outputId": "13f249db-ad4d-4801-ad88-5d6275c4aa12"
      },
      "execution_count": null,
      "outputs": [
        {
          "output_type": "stream",
          "name": "stdout",
          "text": [
            "--2023-06-27 06:56:12--  https://docs.google.com/uc?export=download&confirm=t&id=1-5Y_bbsUogkAlEz3f-4CflbT40jg-UFJ\n",
            "Resolving docs.google.com (docs.google.com)... 74.125.68.101, 74.125.68.100, 74.125.68.102, ...\n",
            "Connecting to docs.google.com (docs.google.com)|74.125.68.101|:443... connected.\n",
            "HTTP request sent, awaiting response... 303 See Other\n",
            "Location: https://doc-00-3c-docs.googleusercontent.com/docs/securesc/ha0ro937gcuc7l7deffksulhg5h7mbp1/474lpc0ji98m9vh2f699hnmgfk11lkv6/1687848900000/14533323077134147075/*/1-5Y_bbsUogkAlEz3f-4CflbT40jg-UFJ?e=download&uuid=8b497458-331d-4d8e-be7d-edcccd05830b [following]\n",
            "Warning: wildcards not supported in HTTP.\n",
            "--2023-06-27 06:56:12--  https://doc-00-3c-docs.googleusercontent.com/docs/securesc/ha0ro937gcuc7l7deffksulhg5h7mbp1/474lpc0ji98m9vh2f699hnmgfk11lkv6/1687848900000/14533323077134147075/*/1-5Y_bbsUogkAlEz3f-4CflbT40jg-UFJ?e=download&uuid=8b497458-331d-4d8e-be7d-edcccd05830b\n",
            "Resolving doc-00-3c-docs.googleusercontent.com (doc-00-3c-docs.googleusercontent.com)... 142.251.12.132, 2404:6800:4003:c11::84\n",
            "Connecting to doc-00-3c-docs.googleusercontent.com (doc-00-3c-docs.googleusercontent.com)|142.251.12.132|:443... connected.\n",
            "HTTP request sent, awaiting response... 200 OK\n",
            "Length: 114027874 (109M) [application/zip]\n",
            "Saving to: ‘10_painting.zip’\n",
            "\n",
            "10_painting.zip     100%[===================>] 108.75M  12.6MB/s    in 47s     \n",
            "\n",
            "2023-06-27 06:57:01 (2.29 MB/s) - ‘10_painting.zip’ saved [114027874/114027874]\n",
            "\n"
          ]
        }
      ]
    },
    {
      "cell_type": "code",
      "source": [
        "!unzip -q 10_painting.zip"
      ],
      "metadata": {
        "id": "K1hqVMJkC4_j"
      },
      "execution_count": null,
      "outputs": []
    },
    {
      "cell_type": "code",
      "source": [
        "!wget --load-cookies /tmp/cookies.txt \"https://docs.google.com/uc?export=download&confirm=$(wget --quiet --save-cookies /tmp/cookies.txt --keep-session-cookies --no-check-certificate 'https://docs.google.com/uc?export=download&id=1ICRO0C8XY9LYR5UPxbHowV1Yxfybkh0D' -O- | sed -rn 's/.*confirm=([0-9A-Za-z_]+).*/\\1\\n/p')&id=1ICRO0C8XY9LYR5UPxbHowV1Yxfybkh0D\" -O 10_real.zip && rm -rf /tmp/cookies.txt"
      ],
      "metadata": {
        "colab": {
          "base_uri": "https://localhost:8080/"
        },
        "id": "_gy3cbOeC-Kt",
        "outputId": "81b378cc-70db-42cd-83a8-fa0074eb8963"
      },
      "execution_count": null,
      "outputs": [
        {
          "output_type": "stream",
          "name": "stdout",
          "text": [
            "--2023-06-27 06:57:02--  https://docs.google.com/uc?export=download&confirm=t&id=1ICRO0C8XY9LYR5UPxbHowV1Yxfybkh0D\n",
            "Resolving docs.google.com (docs.google.com)... 74.125.68.138, 74.125.68.100, 74.125.68.113, ...\n",
            "Connecting to docs.google.com (docs.google.com)|74.125.68.138|:443... connected.\n",
            "HTTP request sent, awaiting response... 303 See Other\n",
            "Location: https://doc-0c-3c-docs.googleusercontent.com/docs/securesc/ha0ro937gcuc7l7deffksulhg5h7mbp1/aok8mjjg34diu619jnk6crqmr3k3ienq/1687848975000/14533323077134147075/*/1ICRO0C8XY9LYR5UPxbHowV1Yxfybkh0D?e=download&uuid=c2da1e68-707a-41b8-a8cf-cbb7c1d6235d [following]\n",
            "Warning: wildcards not supported in HTTP.\n",
            "--2023-06-27 06:57:03--  https://doc-0c-3c-docs.googleusercontent.com/docs/securesc/ha0ro937gcuc7l7deffksulhg5h7mbp1/aok8mjjg34diu619jnk6crqmr3k3ienq/1687848975000/14533323077134147075/*/1ICRO0C8XY9LYR5UPxbHowV1Yxfybkh0D?e=download&uuid=c2da1e68-707a-41b8-a8cf-cbb7c1d6235d\n",
            "Resolving doc-0c-3c-docs.googleusercontent.com (doc-0c-3c-docs.googleusercontent.com)... 142.251.12.132, 2404:6800:4003:c11::84\n",
            "Connecting to doc-0c-3c-docs.googleusercontent.com (doc-0c-3c-docs.googleusercontent.com)|142.251.12.132|:443... connected.\n",
            "HTTP request sent, awaiting response... 200 OK\n",
            "Length: 142433509 (136M) [application/zip]\n",
            "Saving to: ‘10_real.zip’\n",
            "\n",
            "10_real.zip         100%[===================>] 135.83M  51.6MB/s    in 2.6s    \n",
            "\n",
            "2023-06-27 06:57:06 (51.6 MB/s) - ‘10_real.zip’ saved [142433509/142433509]\n",
            "\n"
          ]
        }
      ]
    },
    {
      "cell_type": "code",
      "source": [
        "!unzip -q 10_real.zip"
      ],
      "metadata": {
        "id": "RpuaC9a6FBsr"
      },
      "execution_count": null,
      "outputs": []
    },
    {
      "cell_type": "code",
      "source": [
        "real_images = tf.keras.utils.image_dataset_from_directory(\n",
        "    directory='real/',\n",
        "    labels='inferred',\n",
        "    label_mode='categorical',\n",
        "    batch_size=32,\n",
        "    image_size=((32, 32)),\n",
        ")\n",
        "\n",
        "painting_images = tf.keras.utils.image_dataset_from_directory(\n",
        "    directory='painting/',\n",
        "    labels='inferred',\n",
        "    label_mode='categorical',\n",
        "    batch_size=32,\n",
        "    image_size=((32, 32)),\n",
        ")"
      ],
      "metadata": {
        "colab": {
          "base_uri": "https://localhost:8080/"
        },
        "id": "8L04-p3EFDTw",
        "outputId": "90a78018-d7a4-4b8b-813b-14f6c865e72c"
      },
      "execution_count": null,
      "outputs": [
        {
          "output_type": "stream",
          "name": "stdout",
          "text": [
            "Found 4653 files belonging to 10 classes.\n",
            "Found 2287 files belonging to 10 classes.\n"
          ]
        }
      ]
    },
    {
      "cell_type": "code",
      "source": [
        "x_real, y_real = np.concatenate(list(real_images.map(lambda x, y: x))), np.concatenate(list(real_images.map(lambda x, y: y)))\n",
        "x_paint, y_paint = np.concatenate(list(painting_images.map(lambda x, y: x))), np.concatenate(list(painting_images.map(lambda x, y: y)))"
      ],
      "metadata": {
        "id": "vKH93A7FVW1o"
      },
      "execution_count": null,
      "outputs": []
    },
    {
      "cell_type": "code",
      "source": [
        "x_real = (x_real-127.5)/127.5"
      ],
      "metadata": {
        "id": "0MelA_maac6s"
      },
      "execution_count": null,
      "outputs": []
    },
    {
      "cell_type": "code",
      "source": [
        "data_augmentation = tf.keras.Sequential([\n",
        "  layers.RandomFlip(\"horizontal_and_vertical\"),\n",
        "  layers.RandomRotation(0.2),\n",
        "])"
      ],
      "metadata": {
        "id": "i8CFxEvBn3i5"
      },
      "execution_count": null,
      "outputs": []
    },
    {
      "cell_type": "code",
      "source": [
        "x_real_ = x_real.copy()\n",
        "y_real_ = y_real.copy()\n",
        "\n",
        "for i in range(19):\n",
        "    aug_ds = data_augmentation(x_real).numpy()\n",
        "    x_real_ = np.concatenate([x_real_, aug_ds])\n",
        "    y_real_ = np.concatenate([y_real_, y_real])"
      ],
      "metadata": {
        "id": "jssolc2Boknf"
      },
      "execution_count": null,
      "outputs": []
    },
    {
      "cell_type": "code",
      "source": [
        "gan.compile(\n",
        "    d_optimizer=tf.keras.optimizers.Adam(learning_rate=0.0002, beta_1=0.5),\n",
        "    g_optimizer=tf.keras.optimizers.Adam(learning_rate=0.0002, beta_1=0.5),\n",
        "    loss_fn=tf.keras.losses.BinaryCrossentropy(),\n",
        ")\n",
        "\n",
        "h = gan.fit(\n",
        "    x_real_,\n",
        "    epochs=20,\n",
        "    batch_size=128,\n",
        "    shuffle=True,\n",
        ")"
      ],
      "metadata": {
        "colab": {
          "base_uri": "https://localhost:8080/"
        },
        "outputId": "61926689-1d73-41a2-dd60-c09733fb070a",
        "id": "6Sp1p7E-oboq"
      },
      "execution_count": null,
      "outputs": [
        {
          "output_type": "stream",
          "name": "stdout",
          "text": [
            "Epoch 1/20\n",
            "728/728 [==============================] - 62s 67ms/step - d_loss: 0.5108 - g_loss: 1.5520\n",
            "Epoch 2/20\n",
            "728/728 [==============================] - 48s 65ms/step - d_loss: 0.5903 - g_loss: 1.1969\n",
            "Epoch 3/20\n",
            "728/728 [==============================] - 48s 66ms/step - d_loss: 0.5955 - g_loss: 1.1089\n",
            "Epoch 4/20\n",
            "728/728 [==============================] - 48s 66ms/step - d_loss: 0.5862 - g_loss: 1.0755\n",
            "Epoch 5/20\n",
            "728/728 [==============================] - 48s 66ms/step - d_loss: 0.5814 - g_loss: 1.0757\n",
            "Epoch 6/20\n",
            "728/728 [==============================] - 48s 66ms/step - d_loss: 0.5479 - g_loss: 1.1944\n",
            "Epoch 7/20\n",
            "728/728 [==============================] - 48s 66ms/step - d_loss: 0.5632 - g_loss: 1.1008\n",
            "Epoch 8/20\n",
            "728/728 [==============================] - 48s 66ms/step - d_loss: 0.5532 - g_loss: 1.1458\n",
            "Epoch 9/20\n",
            "728/728 [==============================] - 48s 66ms/step - d_loss: 0.5509 - g_loss: 1.1300\n",
            "Epoch 10/20\n",
            "728/728 [==============================] - 48s 66ms/step - d_loss: 0.5629 - g_loss: 1.0816\n",
            "Epoch 11/20\n",
            "728/728 [==============================] - 48s 66ms/step - d_loss: 0.5679 - g_loss: 1.0532\n",
            "Epoch 12/20\n",
            "728/728 [==============================] - 48s 66ms/step - d_loss: 0.5658 - g_loss: 1.0482\n",
            "Epoch 13/20\n",
            "728/728 [==============================] - 48s 66ms/step - d_loss: 0.5628 - g_loss: 1.0505\n",
            "Epoch 14/20\n",
            "728/728 [==============================] - 48s 66ms/step - d_loss: 0.5509 - g_loss: 1.0879\n",
            "Epoch 15/20\n",
            "728/728 [==============================] - 48s 66ms/step - d_loss: 0.5463 - g_loss: 1.0991\n",
            "Epoch 16/20\n",
            "728/728 [==============================] - 48s 66ms/step - d_loss: 0.5424 - g_loss: 1.1126\n",
            "Epoch 17/20\n",
            "728/728 [==============================] - 48s 65ms/step - d_loss: 0.5301 - g_loss: 1.1449\n",
            "Epoch 18/20\n",
            "728/728 [==============================] - 48s 66ms/step - d_loss: 0.5241 - g_loss: 1.1665\n",
            "Epoch 19/20\n",
            "728/728 [==============================] - 48s 65ms/step - d_loss: 0.5154 - g_loss: 1.1963\n",
            "Epoch 20/20\n",
            "728/728 [==============================] - 48s 65ms/step - d_loss: 0.5074 - g_loss: 1.2213\n"
          ]
        }
      ]
    },
    {
      "cell_type": "code",
      "source": [
        "from matplotlib import pyplot as plt\n",
        "plt.plot(h.history['g_loss'])\n",
        "plt.plot(h.history['d_loss'])\n",
        "plt.title('GAN losses')\n",
        "plt.ylabel('accuracy')\n",
        "plt.xlabel('epoch')\n",
        "plt.legend(['generator loss', 'descriminator loss'], loc='upper left')\n",
        "plt.show()"
      ],
      "metadata": {
        "colab": {
          "base_uri": "https://localhost:8080/",
          "height": 472
        },
        "id": "V-JtOWBLkoi0",
        "outputId": "58314e8c-44e0-45b8-f592-9e41acf5b680"
      },
      "execution_count": null,
      "outputs": [
        {
          "output_type": "display_data",
          "data": {
            "text/plain": [
              "<Figure size 640x480 with 1 Axes>"
            ],
            "image/png": "[encoded data removed]"
          },
          "metadata": {}
        }
      ]
    },
    {
      "cell_type": "code",
      "source": [
        "test = tf.random.normal(shape=(10, 100))"
      ],
      "metadata": {
        "id": "uggjfuzZv102"
      },
      "execution_count": null,
      "outputs": []
    },
    {
      "cell_type": "code",
      "source": [
        "fake = gan.generator(test)\n",
        "fake = (fake+1)/2.0"
      ],
      "metadata": {
        "id": "Ikeyut08-6KW"
      },
      "execution_count": null,
      "outputs": []
    },
    {
      "cell_type": "code",
      "source": [
        "def display(x1):\n",
        "    n = 5  # How many digits we will display\n",
        "    plt.figure(figsize=(12, 6))\n",
        "    for i in range(n):\n",
        "        # Display original\n",
        "        ax = plt.subplot(2, n, i + 1)\n",
        "        plt.imshow(x1[i])\n",
        "        ax.get_xaxis().set_visible(False)\n",
        "        ax.get_yaxis().set_visible(False)\n",
        "\n",
        "    plt.show()\n",
        "\n",
        "display(fake)"
      ],
      "metadata": {
        "colab": {
          "base_uri": "https://localhost:8080/",
          "height": 197
        },
        "id": "1LhXiT6x_P6Q",
        "outputId": "b31b5b49-b55d-4cea-dea2-e2d90c92c097"
      },
      "execution_count": null,
      "outputs": [
        {
          "output_type": "display_data",
          "data": {
            "text/plain": [
              "<Figure size 1200x600 with 5 Axes>"
            ],
            "image/png": "[encoded data removed]"
          },
          "metadata": {}
        }
      ]
    },
    {
      "cell_type": "code",
      "source": [
        "x_paint = (x_paint-127.5)/127.5"
      ],
      "metadata": {
        "id": "h4pOLmAmikZz"
      },
      "execution_count": null,
      "outputs": []
    },
    {
      "cell_type": "code",
      "source": [
        "def onehot_to_label(x):\n",
        "    labels = []\n",
        "    for i in range(x.shape[0]):\n",
        "        labels.append(np.argmax(x[i]))\n",
        "    return labels"
      ],
      "metadata": {
        "id": "DX_5uBFPjSo8"
      },
      "execution_count": null,
      "outputs": []
    },
    {
      "cell_type": "code",
      "source": [
        "features_train = feature_model(x_real)"
      ],
      "metadata": {
        "id": "P4cCp0c5_WZI"
      },
      "execution_count": null,
      "outputs": []
    },
    {
      "cell_type": "code",
      "source": [
        "from sklearn.ensemble import RandomForestClassifier\n",
        "from sklearn.metrics import accuracy_score\n",
        "\n",
        "clf = RandomForestClassifier(max_depth=10, random_state=0, warm_start=True, n_estimators=1)\n",
        "clf.fit(features_train, onehot_to_label(y_real))\n",
        "clf.n_estimators+=1"
      ],
      "metadata": {
        "id": "H5KYzAOVi2_d"
      },
      "execution_count": null,
      "outputs": []
    },
    {
      "cell_type": "code",
      "source": [
        "features_test = feature_model(x_paint)"
      ],
      "metadata": {
        "id": "UiBDZ5FYVsjh"
      },
      "execution_count": null,
      "outputs": []
    },
    {
      "cell_type": "code",
      "source": [
        "y_pred = clf.predict(features_test)"
      ],
      "metadata": {
        "id": "rVVjt5eFjB7o"
      },
      "execution_count": null,
      "outputs": []
    },
    {
      "cell_type": "code",
      "source": [
        "accuracy_score(onehot_to_label(y_paint), y_pred)"
      ],
      "metadata": {
        "colab": {
          "base_uri": "https://localhost:8080/"
        },
        "id": "sX4I0A5AjK7g",
        "outputId": "8b5a63e7-2066-48b1-84de-2769c8d12c81"
      },
      "execution_count": null,
      "outputs": [
        {
          "output_type": "execute_result",
          "data": {
            "text/plain": [
              "0.08526453869698294"
            ]
          },
          "metadata": {},
          "execution_count": 34
        }
      ]
    },
    {
      "cell_type": "code",
      "source": [
        "from sklearn.model_selection import train_test_split\n",
        "x_paint_train, x_paint_test, y_paint_train, y_paint_test = train_test_split(x_paint, y_paint, test_size=0.2, random_state=42)"
      ],
      "metadata": {
        "id": "MLimO1KoJ0QN"
      },
      "execution_count": null,
      "outputs": []
    },
    {
      "cell_type": "code",
      "source": [
        "features_paint_train = feature_model(x_paint_train)"
      ],
      "metadata": {
        "id": "FCo8Org-n2br"
      },
      "execution_count": null,
      "outputs": []
    },
    {
      "cell_type": "code",
      "source": [
        "clf.fit(features_paint_train, onehot_to_label(y_paint_train))"
      ],
      "metadata": {
        "colab": {
          "base_uri": "https://localhost:8080/",
          "height": 92
        },
        "id": "GAhamh-8jM8X",
        "outputId": "47549eb8-1eac-4e44-b499-2ba0c76e2cd7"
      },
      "execution_count": null,
      "outputs": [
        {
          "output_type": "execute_result",
          "data": {
            "text/plain": [
              "RandomForestClassifier(max_depth=10, n_estimators=2, random_state=0,\n",
              "                       warm_start=True)"
            ],
            "text/html": [
              "<style>#sk-container-id-1 {color: black;background-color: white;}#sk-container-id-1 pre{padding: 0;}#sk-container-id-1 div.sk-toggleable {background-color: white;}#sk-container-id-1 label.sk-toggleable__label {cursor: pointer;display: block;width: 100%;margin-bottom: 0;padding: 0.3em;box-sizing: border-box;text-align: center;}#sk-container-id-1 label.sk-toggleable__label-arrow:before {content: \"▸\";float: left;margin-right: 0.25em;color: #696969;}#sk-container-id-1 label.sk-toggleable__label-arrow:hover:before {color: black;}#sk-container-id-1 div.sk-estimator:hover label.sk-toggleable__label-arrow:before {color: black;}#sk-container-id-1 div.sk-toggleable__content {max-height: 0;max-width: 0;overflow: hidden;text-align: left;background-color: #f0f8ff;}#sk-container-id-1 div.sk-toggleable__content pre {margin: 0.2em;color: black;border-radius: 0.25em;background-color: #f0f8ff;}#sk-container-id-1 input.sk-toggleable__control:checked~div.sk-toggleable__content {max-height: 200px;max-width: 100%;overflow: auto;}#sk-container-id-1 input.sk-toggleable__control:checked~label.sk-toggleable__label-arrow:before {content: \"▾\";}#sk-container-id-1 div.sk-estimator input.sk-toggleable__control:checked~label.sk-toggleable__label {background-color: #d4ebff;}#sk-container-id-1 div.sk-label input.sk-toggleable__control:checked~label.sk-toggleable__label {background-color: #d4ebff;}#sk-container-id-1 input.sk-hidden--visually {border: 0;clip: rect(1px 1px 1px 1px);clip: rect(1px, 1px, 1px, 1px);height: 1px;margin: -1px;overflow: hidden;padding: 0;position: absolute;width: 1px;}#sk-container-id-1 div.sk-estimator {font-family: monospace;background-color: #f0f8ff;border: 1px dotted black;border-radius: 0.25em;box-sizing: border-box;margin-bottom: 0.5em;}#sk-container-id-1 div.sk-estimator:hover {background-color: #d4ebff;}#sk-container-id-1 div.sk-parallel-item::after {content: \"\";width: 100%;border-bottom: 1px solid gray;flex-grow: 1;}#sk-container-id-1 div.sk-label:hover label.sk-toggleable__label {background-color: #d4ebff;}#sk-container-id-1 div.sk-serial::before {content: \"\";position: absolute;border-left: 1px solid gray;box-sizing: border-box;top: 0;bottom: 0;left: 50%;z-index: 0;}#sk-container-id-1 div.sk-serial {display: flex;flex-direction: column;align-items: center;background-color: white;padding-right: 0.2em;padding-left: 0.2em;position: relative;}#sk-container-id-1 div.sk-item {position: relative;z-index: 1;}#sk-container-id-1 div.sk-parallel {display: flex;align-items: stretch;justify-content: center;background-color: white;position: relative;}#sk-container-id-1 div.sk-item::before, #sk-container-id-1 div.sk-parallel-item::before {content: \"\";position: absolute;border-left: 1px solid gray;box-sizing: border-box;top: 0;bottom: 0;left: 50%;z-index: -1;}#sk-container-id-1 div.sk-parallel-item {display: flex;flex-direction: column;z-index: 1;position: relative;background-color: white;}#sk-container-id-1 div.sk-parallel-item:first-child::after {align-self: flex-end;width: 50%;}#sk-container-id-1 div.sk-parallel-item:last-child::after {align-self: flex-start;width: 50%;}#sk-container-id-1 div.sk-parallel-item:only-child::after {width: 0;}#sk-container-id-1 div.sk-dashed-wrapped {border: 1px dashed gray;margin: 0 0.4em 0.5em 0.4em;box-sizing: border-box;padding-bottom: 0.4em;background-color: white;}#sk-container-id-1 div.sk-label label {font-family: monospace;font-weight: bold;display: inline-block;line-height: 1.2em;}#sk-container-id-1 div.sk-label-container {text-align: center;}#sk-container-id-1 div.sk-container {/* jupyter's `normalize.less` sets `[hidden] { display: none; }` but bootstrap.min.css set `[hidden] { display: none !important; }` so we also need the `!important` here to be able to override the default hidden behavior on the sphinx rendered scikit-learn.org. See: https://github.com/scikit-learn/scikit-learn/issues/21755 */display: inline-block !important;position: relative;}#sk-container-id-1 div.sk-text-repr-fallback {display: none;}</style><div id=\"sk-container-id-1\" class=\"sk-top-container\"><div class=\"sk-text-repr-fallback\"><pre>RandomForestClassifier(max_depth=10, n_estimators=2, random_state=0,\n",
              "                       warm_start=True)</pre><b>In a Jupyter environment, please rerun this cell to show the HTML representation or trust the notebook. <br />On GitHub, the HTML representation is unable to render, please try loading this page with nbviewer.org.</b></div><div class=\"sk-container\" hidden><div class=\"sk-item\"><div class=\"sk-estimator sk-toggleable\"><input class=\"sk-toggleable__control sk-hidden--visually\" id=\"sk-estimator-id-1\" type=\"checkbox\" checked><label for=\"sk-estimator-id-1\" class=\"sk-toggleable__label sk-toggleable__label-arrow\">RandomForestClassifier</label><div class=\"sk-toggleable__content\"><pre>RandomForestClassifier(max_depth=10, n_estimators=2, random_state=0,\n",
              "                       warm_start=True)</pre></div></div></div></div></div>"
            ]
          },
          "metadata": {},
          "execution_count": 37
        }
      ]
    },
    {
      "cell_type": "code",
      "source": [
        "features_paint_test = feature_model(x_paint_test)"
      ],
      "metadata": {
        "id": "SMccC1JMoCmm"
      },
      "execution_count": null,
      "outputs": []
    },
    {
      "cell_type": "code",
      "source": [
        "y_pred = clf.predict(features_paint_test)"
      ],
      "metadata": {
        "id": "m4WdWMo9zFev"
      },
      "execution_count": null,
      "outputs": []
    },
    {
      "cell_type": "code",
      "source": [
        "accuracy_score(onehot_to_label(y_paint_test), y_pred)"
      ],
      "metadata": {
        "colab": {
          "base_uri": "https://localhost:8080/"
        },
        "id": "3xKNb8ksjOzX",
        "outputId": "020a9887-843b-4c26-b1f9-5ab1851afdd4"
      },
      "execution_count": null,
      "outputs": [
        {
          "output_type": "execute_result",
          "data": {
            "text/plain": [
              "0.14192139737991266"
            ]
          },
          "metadata": {},
          "execution_count": 40
        }
      ]
    },
    {
      "cell_type": "code",
      "source": [],
      "metadata": {
        "id": "1_rjbhIMtxr_"
      },
      "execution_count": null,
      "outputs": []
    }
  ]
}